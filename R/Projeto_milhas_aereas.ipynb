{
  "nbformat": 4,
  "nbformat_minor": 0,
  "metadata": {
    "colab": {
      "provenance": [],
      "authorship_tag": "ABX9TyPhOT4Ad1mt9Uw6EEZC/W5l",
      "include_colab_link": true
    },
    "kernelspec": {
      "name": "ir",
      "display_name": "R"
    },
    "language_info": {
      "name": "R"
    }
  },
  "cells": [
    {
      "cell_type": "markdown",
      "metadata": {
        "id": "view-in-github",
        "colab_type": "text"
      },
      "source": [
        "<a href=\"https://colab.research.google.com/github/Gabriellemga/R/blob/main/R/Projeto_milhas_aereas.ipynb\" target=\"_parent\"><img src=\"https://colab.research.google.com/assets/colab-badge.svg\" alt=\"Open In Colab\"/></a>"
      ]
    },
    {
      "cell_type": "markdown",
      "source": [
        "# 01-Conhecendo os dados"
      ],
      "metadata": {
        "id": "jHtOFcr3xMLN"
      }
    },
    {
      "cell_type": "markdown",
      "source": [
        "## Importar e visualizar dados"
      ],
      "metadata": {
        "id": "dfX5acehxTSz"
      }
    },
    {
      "cell_type": "code",
      "execution_count": 12,
      "metadata": {
        "id": "hb-FXgtrxBIG"
      },
      "outputs": [],
      "source": [
        "library(tidyverse)"
      ]
    },
    {
      "cell_type": "code",
      "source": [
        "transacoes_milhas <- read_csv('/content/transacoes_milhas.csv')"
      ],
      "metadata": {
        "colab": {
          "base_uri": "https://localhost:8080/"
        },
        "id": "REP-PhXOyTxT",
        "outputId": "f9068645-dbb2-464a-9cd8-b6723b818044"
      },
      "execution_count": 13,
      "outputs": [
        {
          "output_type": "stream",
          "name": "stderr",
          "text": [
            "\u001b[1mRows: \u001b[22m\u001b[34m1000\u001b[39m \u001b[1mColumns: \u001b[22m\u001b[34m4\u001b[39m\n",
            "\u001b[36m──\u001b[39m \u001b[1mColumn specification\u001b[22m \u001b[36m────────────────────────────────────────────────────────\u001b[39m\n",
            "\u001b[1mDelimiter:\u001b[22m \",\"\n",
            "\u001b[32mdbl\u001b[39m  (3): id_cliente, milhas_vendidas, valor_recebido\n",
            "\u001b[34mdate\u001b[39m (1): data_venda_milhas\n",
            "\n",
            "\u001b[36mℹ\u001b[39m Use `spec()` to retrieve the full column specification for this data.\n",
            "\u001b[36mℹ\u001b[39m Specify the column types or set `show_col_types = FALSE` to quiet this message.\n"
          ]
        }
      ]
    },
    {
      "cell_type": "code",
      "source": [
        "transacoes_passagens <- read_csv('/content/transacoes_passagens.csv')"
      ],
      "metadata": {
        "colab": {
          "base_uri": "https://localhost:8080/"
        },
        "id": "ernEdpeOyuwu",
        "outputId": "4eb25f84-76b8-4160-c482-db46e5c9722c"
      },
      "execution_count": 14,
      "outputs": [
        {
          "output_type": "stream",
          "name": "stderr",
          "text": [
            "\u001b[1mRows: \u001b[22m\u001b[34m1000\u001b[39m \u001b[1mColumns: \u001b[22m\u001b[34m6\u001b[39m\n",
            "\u001b[36m──\u001b[39m \u001b[1mColumn specification\u001b[22m \u001b[36m────────────────────────────────────────────────────────\u001b[39m\n",
            "\u001b[1mDelimiter:\u001b[22m \",\"\n",
            "\u001b[31mchr\u001b[39m  (1): classe_voo\n",
            "\u001b[32mdbl\u001b[39m  (4): id_cliente, milhas_utilizadas, valor_pago, numero_voo\n",
            "\u001b[34mdate\u001b[39m (1): data_transacao\n",
            "\n",
            "\u001b[36mℹ\u001b[39m Use `spec()` to retrieve the full column specification for this data.\n",
            "\u001b[36mℹ\u001b[39m Specify the column types or set `show_col_types = FALSE` to quiet this message.\n"
          ]
        }
      ]
    },
    {
      "cell_type": "code",
      "source": [
        "clientes <- read_csv('/content/clientes.csv')"
      ],
      "metadata": {
        "colab": {
          "base_uri": "https://localhost:8080/"
        },
        "id": "i9Sy6lpzzJ2u",
        "outputId": "799284fb-b653-4309-b168-a70733930217"
      },
      "execution_count": 15,
      "outputs": [
        {
          "output_type": "stream",
          "name": "stderr",
          "text": [
            "\u001b[1mRows: \u001b[22m\u001b[34m1000\u001b[39m \u001b[1mColumns: \u001b[22m\u001b[34m5\u001b[39m\n",
            "\u001b[36m──\u001b[39m \u001b[1mColumn specification\u001b[22m \u001b[36m────────────────────────────────────────────────────────\u001b[39m\n",
            "\u001b[1mDelimiter:\u001b[22m \",\"\n",
            "\u001b[31mchr\u001b[39m  (1): status_fidelidade\n",
            "\u001b[32mdbl\u001b[39m  (3): id_cliente, milhas_acumuladas, gasto_total\n",
            "\u001b[34mdate\u001b[39m (1): data_nascimento\n",
            "\n",
            "\u001b[36mℹ\u001b[39m Use `spec()` to retrieve the full column specification for this data.\n",
            "\u001b[36mℹ\u001b[39m Specify the column types or set `show_col_types = FALSE` to quiet this message.\n"
          ]
        }
      ]
    },
    {
      "cell_type": "code",
      "source": [
        "transacoes_milhas %>% head()"
      ],
      "metadata": {
        "colab": {
          "base_uri": "https://localhost:8080/",
          "height": 286
        },
        "id": "gxiePmj5zcof",
        "outputId": "868bc5d7-b73b-488e-f412-0361c899500f"
      },
      "execution_count": 16,
      "outputs": [
        {
          "output_type": "display_data",
          "data": {
            "text/html": [
              "<table class=\"dataframe\">\n",
              "<caption>A tibble: 6 × 4</caption>\n",
              "<thead>\n",
              "\t<tr><th scope=col>id_cliente</th><th scope=col>data_venda_milhas</th><th scope=col>milhas_vendidas</th><th scope=col>valor_recebido</th></tr>\n",
              "\t<tr><th scope=col>&lt;dbl&gt;</th><th scope=col>&lt;date&gt;</th><th scope=col>&lt;dbl&gt;</th><th scope=col>&lt;dbl&gt;</th></tr>\n",
              "</thead>\n",
              "<tbody>\n",
              "\t<tr><td>350</td><td>2023-02-23</td><td>4131</td><td> 536.88</td></tr>\n",
              "\t<tr><td>109</td><td>2022-09-26</td><td>6525</td><td> 113.70</td></tr>\n",
              "\t<tr><td>376</td><td>2022-06-12</td><td>9955</td><td> 466.73</td></tr>\n",
              "\t<tr><td>443</td><td>2022-12-17</td><td>5913</td><td>1489.56</td></tr>\n",
              "\t<tr><td>647</td><td>2023-10-06</td><td> 284</td><td>1908.38</td></tr>\n",
              "\t<tr><td>818</td><td>2023-05-29</td><td>4225</td><td>1339.10</td></tr>\n",
              "</tbody>\n",
              "</table>\n"
            ],
            "text/markdown": "\nA tibble: 6 × 4\n\n| id_cliente &lt;dbl&gt; | data_venda_milhas &lt;date&gt; | milhas_vendidas &lt;dbl&gt; | valor_recebido &lt;dbl&gt; |\n|---|---|---|---|\n| 350 | 2023-02-23 | 4131 |  536.88 |\n| 109 | 2022-09-26 | 6525 |  113.70 |\n| 376 | 2022-06-12 | 9955 |  466.73 |\n| 443 | 2022-12-17 | 5913 | 1489.56 |\n| 647 | 2023-10-06 |  284 | 1908.38 |\n| 818 | 2023-05-29 | 4225 | 1339.10 |\n\n",
            "text/latex": "A tibble: 6 × 4\n\\begin{tabular}{llll}\n id\\_cliente & data\\_venda\\_milhas & milhas\\_vendidas & valor\\_recebido\\\\\n <dbl> & <date> & <dbl> & <dbl>\\\\\n\\hline\n\t 350 & 2023-02-23 & 4131 &  536.88\\\\\n\t 109 & 2022-09-26 & 6525 &  113.70\\\\\n\t 376 & 2022-06-12 & 9955 &  466.73\\\\\n\t 443 & 2022-12-17 & 5913 & 1489.56\\\\\n\t 647 & 2023-10-06 &  284 & 1908.38\\\\\n\t 818 & 2023-05-29 & 4225 & 1339.10\\\\\n\\end{tabular}\n",
            "text/plain": [
              "  id_cliente data_venda_milhas milhas_vendidas valor_recebido\n",
              "1 350        2023-02-23        4131             536.88       \n",
              "2 109        2022-09-26        6525             113.70       \n",
              "3 376        2022-06-12        9955             466.73       \n",
              "4 443        2022-12-17        5913            1489.56       \n",
              "5 647        2023-10-06         284            1908.38       \n",
              "6 818        2023-05-29        4225            1339.10       "
            ]
          },
          "metadata": {}
        }
      ]
    },
    {
      "cell_type": "code",
      "source": [
        "transacoes_milhas %>% glimpse()"
      ],
      "metadata": {
        "colab": {
          "base_uri": "https://localhost:8080/"
        },
        "id": "x6UGhUda0K31",
        "outputId": "593ffd85-5031-410c-a4ca-617584a381ba"
      },
      "execution_count": 17,
      "outputs": [
        {
          "output_type": "stream",
          "name": "stdout",
          "text": [
            "Rows: 1,000\n",
            "Columns: 4\n",
            "$ id_cliente        \u001b[3m\u001b[90m<dbl>\u001b[39m\u001b[23m 350\u001b[90m, \u001b[39m109\u001b[90m, \u001b[39m376\u001b[90m, \u001b[39m443\u001b[90m, \u001b[39m647\u001b[90m, \u001b[39m818\u001b[90m, \u001b[39m32\u001b[90m, \u001b[39m770\u001b[90m, \u001b[39m707\u001b[90m, \u001b[39m842\u001b[90m, \u001b[39m170…\n",
            "$ data_venda_milhas \u001b[3m\u001b[90m<date>\u001b[39m\u001b[23m 2023-02-23\u001b[90m, \u001b[39m2022-09-26\u001b[90m, \u001b[39m2022-06-12\u001b[90m, \u001b[39m2022-12-17\u001b[90m, \u001b[39m202…\n",
            "$ milhas_vendidas   \u001b[3m\u001b[90m<dbl>\u001b[39m\u001b[23m 4131\u001b[90m, \u001b[39m6525\u001b[90m, \u001b[39m9955\u001b[90m, \u001b[39m5913\u001b[90m, \u001b[39m284\u001b[90m, \u001b[39m4225\u001b[90m, \u001b[39m2854\u001b[90m, \u001b[39m6127\u001b[90m, \u001b[39m5091\u001b[90m,\u001b[39m…\n",
            "$ valor_recebido    \u001b[3m\u001b[90m<dbl>\u001b[39m\u001b[23m 536.88\u001b[90m, \u001b[39m113.70\u001b[90m, \u001b[39m466.73\u001b[90m, \u001b[39m1489.56\u001b[90m, \u001b[39m1908.38\u001b[90m, \u001b[39m1339.10\u001b[90m, \u001b[39m1…\n"
          ]
        }
      ]
    },
    {
      "cell_type": "code",
      "source": [
        "clientes %>% glimpse()"
      ],
      "metadata": {
        "colab": {
          "base_uri": "https://localhost:8080/"
        },
        "id": "RHsaP2jJ0Rm1",
        "outputId": "dd0fd472-f328-499d-f9f0-dd3d0ccac3be"
      },
      "execution_count": 18,
      "outputs": [
        {
          "output_type": "stream",
          "name": "stdout",
          "text": [
            "Rows: 1,000\n",
            "Columns: 5\n",
            "$ id_cliente        \u001b[3m\u001b[90m<dbl>\u001b[39m\u001b[23m 1\u001b[90m, \u001b[39m2\u001b[90m, \u001b[39m3\u001b[90m, \u001b[39m4\u001b[90m, \u001b[39m5\u001b[90m, \u001b[39m6\u001b[90m, \u001b[39m7\u001b[90m, \u001b[39m8\u001b[90m, \u001b[39m9\u001b[90m, \u001b[39m10\u001b[90m, \u001b[39m11\u001b[90m, \u001b[39m12\u001b[90m, \u001b[39m13\u001b[90m, \u001b[39m14\u001b[90m, \u001b[39m15\u001b[90m, \u001b[39m1…\n",
            "$ data_nascimento   \u001b[3m\u001b[90m<date>\u001b[39m\u001b[23m 1971-01-09\u001b[90m, \u001b[39m1996-08-11\u001b[90m, \u001b[39m1994-07-18\u001b[90m, \u001b[39m2003-03-08\u001b[90m, \u001b[39m196…\n",
            "$ status_fidelidade \u001b[3m\u001b[90m<chr>\u001b[39m\u001b[23m \"Diamante\"\u001b[90m, \u001b[39m\"Diamante\"\u001b[90m, \u001b[39m\"Diamante\"\u001b[90m, \u001b[39m\"Prata\"\u001b[90m, \u001b[39m\"Diaman…\n",
            "$ milhas_acumuladas \u001b[3m\u001b[90m<dbl>\u001b[39m\u001b[23m 2833\u001b[90m, \u001b[39m8864\u001b[90m, \u001b[39m917\u001b[90m, \u001b[39m8773\u001b[90m, \u001b[39m1492\u001b[90m, \u001b[39m6270\u001b[90m, \u001b[39m2583\u001b[90m, \u001b[39m8263\u001b[90m, \u001b[39m8914\u001b[90m,\u001b[39m…\n",
            "$ gasto_total       \u001b[3m\u001b[90m<dbl>\u001b[39m\u001b[23m 1906.69\u001b[90m, \u001b[39m493.58\u001b[90m, \u001b[39m519.16\u001b[90m, \u001b[39m1256.60\u001b[90m, \u001b[39m410.37\u001b[90m, \u001b[39m250.93\u001b[90m, \u001b[39m92…\n"
          ]
        }
      ]
    },
    {
      "cell_type": "code",
      "source": [
        "transacoes_passagens %>% glimpse()"
      ],
      "metadata": {
        "colab": {
          "base_uri": "https://localhost:8080/"
        },
        "id": "P9g5zsARz3rg",
        "outputId": "d61ee9d0-35b5-487b-e13b-275036a788eb"
      },
      "execution_count": 19,
      "outputs": [
        {
          "output_type": "stream",
          "name": "stdout",
          "text": [
            "Rows: 1,000\n",
            "Columns: 6\n",
            "$ id_cliente        \u001b[3m\u001b[90m<dbl>\u001b[39m\u001b[23m 507\u001b[90m, \u001b[39m86\u001b[90m, \u001b[39m589\u001b[90m, \u001b[39m774\u001b[90m, \u001b[39m705\u001b[90m, \u001b[39m316\u001b[90m, \u001b[39m801\u001b[90m, \u001b[39m149\u001b[90m, \u001b[39m11\u001b[90m, \u001b[39m154\u001b[90m, \u001b[39m363\u001b[90m,\u001b[39m…\n",
            "$ data_transacao    \u001b[3m\u001b[90m<date>\u001b[39m\u001b[23m 2023-01-30\u001b[90m, \u001b[39m2023-03-07\u001b[90m, \u001b[39m2022-02-11\u001b[90m, \u001b[39m2022-09-23\u001b[90m, \u001b[39m202…\n",
            "$ milhas_utilizadas \u001b[3m\u001b[90m<dbl>\u001b[39m\u001b[23m 9837\u001b[90m, \u001b[39m6067\u001b[90m, \u001b[39m2893\u001b[90m, \u001b[39m2274\u001b[90m, \u001b[39m6043\u001b[90m, \u001b[39m1798\u001b[90m, \u001b[39m4354\u001b[90m, \u001b[39m6976\u001b[90m, \u001b[39m6344…\n",
            "$ valor_pago        \u001b[3m\u001b[90m<dbl>\u001b[39m\u001b[23m 424.31\u001b[90m, \u001b[39m513.52\u001b[90m, \u001b[39m1320.34\u001b[90m, \u001b[39m1000.44\u001b[90m, \u001b[39m1607.35\u001b[90m, \u001b[39m1802.67\u001b[90m, \u001b[39m…\n",
            "$ classe_voo        \u001b[3m\u001b[90m<chr>\u001b[39m\u001b[23m \"Economica\"\u001b[90m, \u001b[39m\"Economica\"\u001b[90m, \u001b[39m\"Primeira Classe\"\u001b[90m, \u001b[39m\"Econom…\n",
            "$ numero_voo        \u001b[3m\u001b[90m<dbl>\u001b[39m\u001b[23m 3705\u001b[90m, \u001b[39m9504\u001b[90m, \u001b[39m1695\u001b[90m, \u001b[39m2963\u001b[90m, \u001b[39m9190\u001b[90m, \u001b[39m6242\u001b[90m, \u001b[39m2415\u001b[90m, \u001b[39m6747\u001b[90m, \u001b[39m3509…\n"
          ]
        }
      ]
    },
    {
      "cell_type": "markdown",
      "source": [
        "## Seleção e filtragem de dados"
      ],
      "metadata": {
        "id": "ju6x_g5V2N9U"
      }
    },
    {
      "cell_type": "code",
      "source": [
        "transacoes_passagens <-transacoes_passagens %>% select(id_cliente, data_transacao, milhas_utilizadas, valor_pago)"
      ],
      "metadata": {
        "id": "ZegdKUcNz8TV"
      },
      "execution_count": 23,
      "outputs": []
    },
    {
      "cell_type": "code",
      "source": [
        "transacoes_passagens %>% glimpse()"
      ],
      "metadata": {
        "colab": {
          "base_uri": "https://localhost:8080/"
        },
        "id": "VHudyWwk20Pz",
        "outputId": "700fb59e-044e-4e9c-f3e6-eb112b1393ee"
      },
      "execution_count": 24,
      "outputs": [
        {
          "output_type": "stream",
          "name": "stdout",
          "text": [
            "Rows: 1,000\n",
            "Columns: 4\n",
            "$ id_cliente        \u001b[3m\u001b[90m<dbl>\u001b[39m\u001b[23m 507\u001b[90m, \u001b[39m86\u001b[90m, \u001b[39m589\u001b[90m, \u001b[39m774\u001b[90m, \u001b[39m705\u001b[90m, \u001b[39m316\u001b[90m, \u001b[39m801\u001b[90m, \u001b[39m149\u001b[90m, \u001b[39m11\u001b[90m, \u001b[39m154\u001b[90m, \u001b[39m363\u001b[90m,\u001b[39m…\n",
            "$ data_transacao    \u001b[3m\u001b[90m<date>\u001b[39m\u001b[23m 2023-01-30\u001b[90m, \u001b[39m2023-03-07\u001b[90m, \u001b[39m2022-02-11\u001b[90m, \u001b[39m2022-09-23\u001b[90m, \u001b[39m202…\n",
            "$ milhas_utilizadas \u001b[3m\u001b[90m<dbl>\u001b[39m\u001b[23m 9837\u001b[90m, \u001b[39m6067\u001b[90m, \u001b[39m2893\u001b[90m, \u001b[39m2274\u001b[90m, \u001b[39m6043\u001b[90m, \u001b[39m1798\u001b[90m, \u001b[39m4354\u001b[90m, \u001b[39m6976\u001b[90m, \u001b[39m6344…\n",
            "$ valor_pago        \u001b[3m\u001b[90m<dbl>\u001b[39m\u001b[23m 424.31\u001b[90m, \u001b[39m513.52\u001b[90m, \u001b[39m1320.34\u001b[90m, \u001b[39m1000.44\u001b[90m, \u001b[39m1607.35\u001b[90m, \u001b[39m1802.67\u001b[90m, \u001b[39m…\n"
          ]
        }
      ]
    },
    {
      "cell_type": "code",
      "source": [
        "transacoes_milhas <- transacoes_milhas %>% filter(data_venda_milhas >= '2022-01-01' & data_venda_milhas <= '2022-12-31')"
      ],
      "metadata": {
        "id": "mi682qqh3Xb7"
      },
      "execution_count": 25,
      "outputs": []
    },
    {
      "cell_type": "code",
      "source": [
        "transacoes_milhas %>% glimpse()"
      ],
      "metadata": {
        "colab": {
          "base_uri": "https://localhost:8080/"
        },
        "id": "XCse8TdE3hed",
        "outputId": "ec90512d-ca6c-4206-f040-7bdfdc34046b"
      },
      "execution_count": 26,
      "outputs": [
        {
          "output_type": "stream",
          "name": "stdout",
          "text": [
            "Rows: 485\n",
            "Columns: 4\n",
            "$ id_cliente        \u001b[3m\u001b[90m<dbl>\u001b[39m\u001b[23m 109\u001b[90m, \u001b[39m376\u001b[90m, \u001b[39m443\u001b[90m, \u001b[39m32\u001b[90m, \u001b[39m842\u001b[90m, \u001b[39m609\u001b[90m, \u001b[39m391\u001b[90m, \u001b[39m600\u001b[90m, \u001b[39m101\u001b[90m, \u001b[39m761\u001b[90m, \u001b[39m959…\n",
            "$ data_venda_milhas \u001b[3m\u001b[90m<date>\u001b[39m\u001b[23m 2022-09-26\u001b[90m, \u001b[39m2022-06-12\u001b[90m, \u001b[39m2022-12-17\u001b[90m, \u001b[39m2022-12-06\u001b[90m, \u001b[39m202…\n",
            "$ milhas_vendidas   \u001b[3m\u001b[90m<dbl>\u001b[39m\u001b[23m 6525\u001b[90m, \u001b[39m9955\u001b[90m, \u001b[39m5913\u001b[90m, \u001b[39m2854\u001b[90m, \u001b[39m5686\u001b[90m, \u001b[39m937\u001b[90m, \u001b[39m1190\u001b[90m, \u001b[39m8295\u001b[90m, \u001b[39m635\u001b[90m, \u001b[39m…\n",
            "$ valor_recebido    \u001b[3m\u001b[90m<dbl>\u001b[39m\u001b[23m 113.70\u001b[90m, \u001b[39m466.73\u001b[90m, \u001b[39m1489.56\u001b[90m, \u001b[39m1983.85\u001b[90m, \u001b[39m191.69\u001b[90m, \u001b[39m183.50\u001b[90m, \u001b[39m47…\n"
          ]
        }
      ]
    },
    {
      "cell_type": "code",
      "source": [
        "transacoes_passagens <- transacoes_passagens %>% filter(data_transacao >= '2022-01-01' & data_transacao <= '2022-12-31')"
      ],
      "metadata": {
        "id": "nkR1joDH3j4L"
      },
      "execution_count": 27,
      "outputs": []
    },
    {
      "cell_type": "code",
      "source": [
        "transacoes_passagens %>% glimpse()"
      ],
      "metadata": {
        "colab": {
          "base_uri": "https://localhost:8080/"
        },
        "id": "s3-2iW5c3m3w",
        "outputId": "5bd26ccc-8a31-460b-8d2a-6de3f1a8d1fa"
      },
      "execution_count": 28,
      "outputs": [
        {
          "output_type": "stream",
          "name": "stdout",
          "text": [
            "Rows: 502\n",
            "Columns: 4\n",
            "$ id_cliente        \u001b[3m\u001b[90m<dbl>\u001b[39m\u001b[23m 589\u001b[90m, \u001b[39m774\u001b[90m, \u001b[39m149\u001b[90m, \u001b[39m620\u001b[90m, \u001b[39m96\u001b[90m, \u001b[39m449\u001b[90m, \u001b[39m693\u001b[90m, \u001b[39m242\u001b[90m, \u001b[39m358\u001b[90m, \u001b[39m317\u001b[90m, \u001b[39m633…\n",
            "$ data_transacao    \u001b[3m\u001b[90m<date>\u001b[39m\u001b[23m 2022-02-11\u001b[90m, \u001b[39m2022-09-23\u001b[90m, \u001b[39m2022-11-07\u001b[90m, \u001b[39m2022-08-12\u001b[90m, \u001b[39m202…\n",
            "$ milhas_utilizadas \u001b[3m\u001b[90m<dbl>\u001b[39m\u001b[23m 2893\u001b[90m, \u001b[39m2274\u001b[90m, \u001b[39m6976\u001b[90m, \u001b[39m6479\u001b[90m, \u001b[39m9444\u001b[90m, \u001b[39m8102\u001b[90m, \u001b[39m5335\u001b[90m, \u001b[39m7139\u001b[90m, \u001b[39m7280…\n",
            "$ valor_pago        \u001b[3m\u001b[90m<dbl>\u001b[39m\u001b[23m 1320.34\u001b[90m, \u001b[39m1000.44\u001b[90m, \u001b[39m309.56\u001b[90m, \u001b[39m1869.74\u001b[90m, \u001b[39m267.63\u001b[90m, \u001b[39m268.38\u001b[90m, \u001b[39m1…\n"
          ]
        }
      ]
    },
    {
      "cell_type": "markdown",
      "source": [
        "## Criar e modificar colunas com mutate"
      ],
      "metadata": {
        "id": "QNmU2o6C4vzy"
      }
    },
    {
      "cell_type": "code",
      "source": [
        "transacoes_passagens <- transacoes_passagens %>% mutate(custo_por_milha = valor_pago/milhas_utilizadas)"
      ],
      "metadata": {
        "id": "k8StfMLs3qfX"
      },
      "execution_count": 29,
      "outputs": []
    },
    {
      "cell_type": "code",
      "source": [
        "transacoes_passagens %>% glimpse()"
      ],
      "metadata": {
        "colab": {
          "base_uri": "https://localhost:8080/"
        },
        "id": "LDywHuqN54iT",
        "outputId": "40ec094d-c3f1-48b8-db62-2bd5fa2f4b82"
      },
      "execution_count": 30,
      "outputs": [
        {
          "output_type": "stream",
          "name": "stdout",
          "text": [
            "Rows: 502\n",
            "Columns: 5\n",
            "$ id_cliente        \u001b[3m\u001b[90m<dbl>\u001b[39m\u001b[23m 589\u001b[90m, \u001b[39m774\u001b[90m, \u001b[39m149\u001b[90m, \u001b[39m620\u001b[90m, \u001b[39m96\u001b[90m, \u001b[39m449\u001b[90m, \u001b[39m693\u001b[90m, \u001b[39m242\u001b[90m, \u001b[39m358\u001b[90m, \u001b[39m317\u001b[90m, \u001b[39m633…\n",
            "$ data_transacao    \u001b[3m\u001b[90m<date>\u001b[39m\u001b[23m 2022-02-11\u001b[90m, \u001b[39m2022-09-23\u001b[90m, \u001b[39m2022-11-07\u001b[90m, \u001b[39m2022-08-12\u001b[90m, \u001b[39m202…\n",
            "$ milhas_utilizadas \u001b[3m\u001b[90m<dbl>\u001b[39m\u001b[23m 2893\u001b[90m, \u001b[39m2274\u001b[90m, \u001b[39m6976\u001b[90m, \u001b[39m6479\u001b[90m, \u001b[39m9444\u001b[90m, \u001b[39m8102\u001b[90m, \u001b[39m5335\u001b[90m, \u001b[39m7139\u001b[90m, \u001b[39m7280…\n",
            "$ valor_pago        \u001b[3m\u001b[90m<dbl>\u001b[39m\u001b[23m 1320.34\u001b[90m, \u001b[39m1000.44\u001b[90m, \u001b[39m309.56\u001b[90m, \u001b[39m1869.74\u001b[90m, \u001b[39m267.63\u001b[90m, \u001b[39m268.38\u001b[90m, \u001b[39m1…\n",
            "$ custo_por_milha   \u001b[3m\u001b[90m<dbl>\u001b[39m\u001b[23m 0.45639129\u001b[90m, \u001b[39m0.43994723\u001b[90m, \u001b[39m0.04437500\u001b[90m, \u001b[39m0.28858466\u001b[90m, \u001b[39m0.02…\n"
          ]
        }
      ]
    },
    {
      "cell_type": "code",
      "source": [
        "media_milhas <- transacoes_passagens %>% group_by(id_cliente) %>% summarise(media_milhas = mean(milhas_utilizadas))"
      ],
      "metadata": {
        "id": "OArjiqXf591S"
      },
      "execution_count": 31,
      "outputs": []
    },
    {
      "cell_type": "code",
      "source": [
        "media_milhas %>% head()"
      ],
      "metadata": {
        "colab": {
          "base_uri": "https://localhost:8080/",
          "height": 286
        },
        "id": "hBAbGl8c7UfF",
        "outputId": "789816ea-2671-4de0-ec75-8ea666ae253d"
      },
      "execution_count": 32,
      "outputs": [
        {
          "output_type": "display_data",
          "data": {
            "text/html": [
              "<table class=\"dataframe\">\n",
              "<caption>A tibble: 6 × 2</caption>\n",
              "<thead>\n",
              "\t<tr><th scope=col>id_cliente</th><th scope=col>media_milhas</th></tr>\n",
              "\t<tr><th scope=col>&lt;dbl&gt;</th><th scope=col>&lt;dbl&gt;</th></tr>\n",
              "</thead>\n",
              "<tbody>\n",
              "\t<tr><td> 3</td><td>1023.0</td></tr>\n",
              "\t<tr><td> 7</td><td>7074.5</td></tr>\n",
              "\t<tr><td>10</td><td>6537.0</td></tr>\n",
              "\t<tr><td>12</td><td>9312.0</td></tr>\n",
              "\t<tr><td>13</td><td>4123.0</td></tr>\n",
              "\t<tr><td>15</td><td>7541.0</td></tr>\n",
              "</tbody>\n",
              "</table>\n"
            ],
            "text/markdown": "\nA tibble: 6 × 2\n\n| id_cliente &lt;dbl&gt; | media_milhas &lt;dbl&gt; |\n|---|---|\n|  3 | 1023.0 |\n|  7 | 7074.5 |\n| 10 | 6537.0 |\n| 12 | 9312.0 |\n| 13 | 4123.0 |\n| 15 | 7541.0 |\n\n",
            "text/latex": "A tibble: 6 × 2\n\\begin{tabular}{ll}\n id\\_cliente & media\\_milhas\\\\\n <dbl> & <dbl>\\\\\n\\hline\n\t  3 & 1023.0\\\\\n\t  7 & 7074.5\\\\\n\t 10 & 6537.0\\\\\n\t 12 & 9312.0\\\\\n\t 13 & 4123.0\\\\\n\t 15 & 7541.0\\\\\n\\end{tabular}\n",
            "text/plain": [
              "  id_cliente media_milhas\n",
              "1  3         1023.0      \n",
              "2  7         7074.5      \n",
              "3 10         6537.0      \n",
              "4 12         9312.0      \n",
              "5 13         4123.0      \n",
              "6 15         7541.0      "
            ]
          },
          "metadata": {}
        }
      ]
    },
    {
      "cell_type": "markdown",
      "source": [
        "# 02- Organizando, combinando e filtrando dataframes"
      ],
      "metadata": {
        "id": "B0wWDX3t7669"
      }
    },
    {
      "cell_type": "markdown",
      "source": [
        "## Ordenar compras de passagens por data com arrange"
      ],
      "metadata": {
        "id": "jxkp_Gq18JPJ"
      }
    },
    {
      "cell_type": "code",
      "source": [
        "transacoes_passagens <- transacoes_passagens %>% arrange(data_transacao)"
      ],
      "metadata": {
        "id": "i76I19dq7ZsB"
      },
      "execution_count": 35,
      "outputs": []
    },
    {
      "cell_type": "code",
      "source": [
        "transacoes_passagens %>% head()"
      ],
      "metadata": {
        "colab": {
          "base_uri": "https://localhost:8080/",
          "height": 286
        },
        "id": "dNvz2pJN9T_n",
        "outputId": "2afc04e3-4fe5-4e72-8501-5c75b508457c"
      },
      "execution_count": 36,
      "outputs": [
        {
          "output_type": "display_data",
          "data": {
            "text/html": [
              "<table class=\"dataframe\">\n",
              "<caption>A tibble: 6 × 5</caption>\n",
              "<thead>\n",
              "\t<tr><th scope=col>id_cliente</th><th scope=col>data_transacao</th><th scope=col>milhas_utilizadas</th><th scope=col>valor_pago</th><th scope=col>custo_por_milha</th></tr>\n",
              "\t<tr><th scope=col>&lt;dbl&gt;</th><th scope=col>&lt;date&gt;</th><th scope=col>&lt;dbl&gt;</th><th scope=col>&lt;dbl&gt;</th><th scope=col>&lt;dbl&gt;</th></tr>\n",
              "</thead>\n",
              "<tbody>\n",
              "\t<tr><td>967</td><td>2022-01-01</td><td>1198</td><td>1217.17</td><td>1.0160017</td></tr>\n",
              "\t<tr><td>747</td><td>2022-01-01</td><td>8451</td><td>1064.09</td><td>0.1259129</td></tr>\n",
              "\t<tr><td>237</td><td>2022-01-01</td><td>7996</td><td>1684.94</td><td>0.2107229</td></tr>\n",
              "\t<tr><td>504</td><td>2022-01-02</td><td>6143</td><td> 692.94</td><td>0.1128016</td></tr>\n",
              "\t<tr><td>840</td><td>2022-01-02</td><td>5267</td><td>1496.54</td><td>0.2841352</td></tr>\n",
              "\t<tr><td>396</td><td>2022-01-02</td><td>1929</td><td> 760.04</td><td>0.3940073</td></tr>\n",
              "</tbody>\n",
              "</table>\n"
            ],
            "text/markdown": "\nA tibble: 6 × 5\n\n| id_cliente &lt;dbl&gt; | data_transacao &lt;date&gt; | milhas_utilizadas &lt;dbl&gt; | valor_pago &lt;dbl&gt; | custo_por_milha &lt;dbl&gt; |\n|---|---|---|---|---|\n| 967 | 2022-01-01 | 1198 | 1217.17 | 1.0160017 |\n| 747 | 2022-01-01 | 8451 | 1064.09 | 0.1259129 |\n| 237 | 2022-01-01 | 7996 | 1684.94 | 0.2107229 |\n| 504 | 2022-01-02 | 6143 |  692.94 | 0.1128016 |\n| 840 | 2022-01-02 | 5267 | 1496.54 | 0.2841352 |\n| 396 | 2022-01-02 | 1929 |  760.04 | 0.3940073 |\n\n",
            "text/latex": "A tibble: 6 × 5\n\\begin{tabular}{lllll}\n id\\_cliente & data\\_transacao & milhas\\_utilizadas & valor\\_pago & custo\\_por\\_milha\\\\\n <dbl> & <date> & <dbl> & <dbl> & <dbl>\\\\\n\\hline\n\t 967 & 2022-01-01 & 1198 & 1217.17 & 1.0160017\\\\\n\t 747 & 2022-01-01 & 8451 & 1064.09 & 0.1259129\\\\\n\t 237 & 2022-01-01 & 7996 & 1684.94 & 0.2107229\\\\\n\t 504 & 2022-01-02 & 6143 &  692.94 & 0.1128016\\\\\n\t 840 & 2022-01-02 & 5267 & 1496.54 & 0.2841352\\\\\n\t 396 & 2022-01-02 & 1929 &  760.04 & 0.3940073\\\\\n\\end{tabular}\n",
            "text/plain": [
              "  id_cliente data_transacao milhas_utilizadas valor_pago custo_por_milha\n",
              "1 967        2022-01-01     1198              1217.17    1.0160017      \n",
              "2 747        2022-01-01     8451              1064.09    0.1259129      \n",
              "3 237        2022-01-01     7996              1684.94    0.2107229      \n",
              "4 504        2022-01-02     6143               692.94    0.1128016      \n",
              "5 840        2022-01-02     5267              1496.54    0.2841352      \n",
              "6 396        2022-01-02     1929               760.04    0.3940073      "
            ]
          },
          "metadata": {}
        }
      ]
    },
    {
      "cell_type": "code",
      "source": [
        "transacoes_milhas <- transacoes_milhas %>% arrange(data_venda_milhas)"
      ],
      "metadata": {
        "id": "IZz_5OHu9Yvw"
      },
      "execution_count": 37,
      "outputs": []
    },
    {
      "cell_type": "code",
      "source": [
        "transacoes_milhas %>% head()"
      ],
      "metadata": {
        "colab": {
          "base_uri": "https://localhost:8080/",
          "height": 286
        },
        "id": "-p-Eh1yb9tEi",
        "outputId": "5116d7d7-f91c-432f-d174-e3a242b91d7e"
      },
      "execution_count": 39,
      "outputs": [
        {
          "output_type": "display_data",
          "data": {
            "text/html": [
              "<table class=\"dataframe\">\n",
              "<caption>A tibble: 6 × 4</caption>\n",
              "<thead>\n",
              "\t<tr><th scope=col>id_cliente</th><th scope=col>data_venda_milhas</th><th scope=col>milhas_vendidas</th><th scope=col>valor_recebido</th></tr>\n",
              "\t<tr><th scope=col>&lt;dbl&gt;</th><th scope=col>&lt;date&gt;</th><th scope=col>&lt;dbl&gt;</th><th scope=col>&lt;dbl&gt;</th></tr>\n",
              "</thead>\n",
              "<tbody>\n",
              "\t<tr><td>619</td><td>2022-01-01</td><td>4385</td><td>1836.72</td></tr>\n",
              "\t<tr><td>323</td><td>2022-01-01</td><td>8808</td><td>1023.11</td></tr>\n",
              "\t<tr><td>963</td><td>2022-01-01</td><td>6560</td><td>1883.39</td></tr>\n",
              "\t<tr><td>745</td><td>2022-01-02</td><td>4810</td><td>1685.14</td></tr>\n",
              "\t<tr><td>299</td><td>2022-01-02</td><td>1916</td><td> 988.58</td></tr>\n",
              "\t<tr><td>797</td><td>2022-01-02</td><td>3026</td><td>1970.48</td></tr>\n",
              "</tbody>\n",
              "</table>\n"
            ],
            "text/markdown": "\nA tibble: 6 × 4\n\n| id_cliente &lt;dbl&gt; | data_venda_milhas &lt;date&gt; | milhas_vendidas &lt;dbl&gt; | valor_recebido &lt;dbl&gt; |\n|---|---|---|---|\n| 619 | 2022-01-01 | 4385 | 1836.72 |\n| 323 | 2022-01-01 | 8808 | 1023.11 |\n| 963 | 2022-01-01 | 6560 | 1883.39 |\n| 745 | 2022-01-02 | 4810 | 1685.14 |\n| 299 | 2022-01-02 | 1916 |  988.58 |\n| 797 | 2022-01-02 | 3026 | 1970.48 |\n\n",
            "text/latex": "A tibble: 6 × 4\n\\begin{tabular}{llll}\n id\\_cliente & data\\_venda\\_milhas & milhas\\_vendidas & valor\\_recebido\\\\\n <dbl> & <date> & <dbl> & <dbl>\\\\\n\\hline\n\t 619 & 2022-01-01 & 4385 & 1836.72\\\\\n\t 323 & 2022-01-01 & 8808 & 1023.11\\\\\n\t 963 & 2022-01-01 & 6560 & 1883.39\\\\\n\t 745 & 2022-01-02 & 4810 & 1685.14\\\\\n\t 299 & 2022-01-02 & 1916 &  988.58\\\\\n\t 797 & 2022-01-02 & 3026 & 1970.48\\\\\n\\end{tabular}\n",
            "text/plain": [
              "  id_cliente data_venda_milhas milhas_vendidas valor_recebido\n",
              "1 619        2022-01-01        4385            1836.72       \n",
              "2 323        2022-01-01        8808            1023.11       \n",
              "3 963        2022-01-01        6560            1883.39       \n",
              "4 745        2022-01-02        4810            1685.14       \n",
              "5 299        2022-01-02        1916             988.58       \n",
              "6 797        2022-01-02        3026            1970.48       "
            ]
          },
          "metadata": {}
        }
      ]
    },
    {
      "cell_type": "markdown",
      "source": [
        "##  Unir dados de compras e vendas com left_join"
      ],
      "metadata": {
        "id": "K6pKfoBb-N0_"
      }
    },
    {
      "cell_type": "code",
      "source": [
        "transacoes_passagens <- transacoes_passagens %>% left_join(clientes, by = 'id_cliente')"
      ],
      "metadata": {
        "id": "EhmZODLj9wuH"
      },
      "execution_count": 41,
      "outputs": []
    },
    {
      "cell_type": "code",
      "source": [
        "transacoes_passagens %>% head()"
      ],
      "metadata": {
        "colab": {
          "base_uri": "https://localhost:8080/",
          "height": 286
        },
        "id": "GCEXPgem_CQf",
        "outputId": "8f48515a-6be1-46ce-a3b9-48dfff8bf9a6"
      },
      "execution_count": 42,
      "outputs": [
        {
          "output_type": "display_data",
          "data": {
            "text/html": [
              "<table class=\"dataframe\">\n",
              "<caption>A tibble: 6 × 9</caption>\n",
              "<thead>\n",
              "\t<tr><th scope=col>id_cliente</th><th scope=col>data_transacao</th><th scope=col>milhas_utilizadas</th><th scope=col>valor_pago</th><th scope=col>custo_por_milha</th><th scope=col>data_nascimento</th><th scope=col>status_fidelidade</th><th scope=col>milhas_acumuladas</th><th scope=col>gasto_total</th></tr>\n",
              "\t<tr><th scope=col>&lt;dbl&gt;</th><th scope=col>&lt;date&gt;</th><th scope=col>&lt;dbl&gt;</th><th scope=col>&lt;dbl&gt;</th><th scope=col>&lt;dbl&gt;</th><th scope=col>&lt;date&gt;</th><th scope=col>&lt;chr&gt;</th><th scope=col>&lt;dbl&gt;</th><th scope=col>&lt;dbl&gt;</th></tr>\n",
              "</thead>\n",
              "<tbody>\n",
              "\t<tr><td>967</td><td>2022-01-01</td><td>1198</td><td>1217.17</td><td>1.0160017</td><td>1963-12-21</td><td>Prata   </td><td>7635</td><td> 710.17</td></tr>\n",
              "\t<tr><td>747</td><td>2022-01-01</td><td>8451</td><td>1064.09</td><td>0.1259129</td><td>1967-04-16</td><td>Diamante</td><td>1952</td><td> 706.99</td></tr>\n",
              "\t<tr><td>237</td><td>2022-01-01</td><td>7996</td><td>1684.94</td><td>0.2107229</td><td>1961-07-17</td><td>Ouro    </td><td>5529</td><td>1002.03</td></tr>\n",
              "\t<tr><td>504</td><td>2022-01-02</td><td>6143</td><td> 692.94</td><td>0.1128016</td><td>1999-02-14</td><td>Diamante</td><td>8871</td><td> 922.06</td></tr>\n",
              "\t<tr><td>840</td><td>2022-01-02</td><td>5267</td><td>1496.54</td><td>0.2841352</td><td>1983-12-04</td><td>Ouro    </td><td>9589</td><td>1987.85</td></tr>\n",
              "\t<tr><td>396</td><td>2022-01-02</td><td>1929</td><td> 760.04</td><td>0.3940073</td><td>1972-06-30</td><td>Diamante</td><td>2142</td><td> 285.24</td></tr>\n",
              "</tbody>\n",
              "</table>\n"
            ],
            "text/markdown": "\nA tibble: 6 × 9\n\n| id_cliente &lt;dbl&gt; | data_transacao &lt;date&gt; | milhas_utilizadas &lt;dbl&gt; | valor_pago &lt;dbl&gt; | custo_por_milha &lt;dbl&gt; | data_nascimento &lt;date&gt; | status_fidelidade &lt;chr&gt; | milhas_acumuladas &lt;dbl&gt; | gasto_total &lt;dbl&gt; |\n|---|---|---|---|---|---|---|---|---|\n| 967 | 2022-01-01 | 1198 | 1217.17 | 1.0160017 | 1963-12-21 | Prata    | 7635 |  710.17 |\n| 747 | 2022-01-01 | 8451 | 1064.09 | 0.1259129 | 1967-04-16 | Diamante | 1952 |  706.99 |\n| 237 | 2022-01-01 | 7996 | 1684.94 | 0.2107229 | 1961-07-17 | Ouro     | 5529 | 1002.03 |\n| 504 | 2022-01-02 | 6143 |  692.94 | 0.1128016 | 1999-02-14 | Diamante | 8871 |  922.06 |\n| 840 | 2022-01-02 | 5267 | 1496.54 | 0.2841352 | 1983-12-04 | Ouro     | 9589 | 1987.85 |\n| 396 | 2022-01-02 | 1929 |  760.04 | 0.3940073 | 1972-06-30 | Diamante | 2142 |  285.24 |\n\n",
            "text/latex": "A tibble: 6 × 9\n\\begin{tabular}{lllllllll}\n id\\_cliente & data\\_transacao & milhas\\_utilizadas & valor\\_pago & custo\\_por\\_milha & data\\_nascimento & status\\_fidelidade & milhas\\_acumuladas & gasto\\_total\\\\\n <dbl> & <date> & <dbl> & <dbl> & <dbl> & <date> & <chr> & <dbl> & <dbl>\\\\\n\\hline\n\t 967 & 2022-01-01 & 1198 & 1217.17 & 1.0160017 & 1963-12-21 & Prata    & 7635 &  710.17\\\\\n\t 747 & 2022-01-01 & 8451 & 1064.09 & 0.1259129 & 1967-04-16 & Diamante & 1952 &  706.99\\\\\n\t 237 & 2022-01-01 & 7996 & 1684.94 & 0.2107229 & 1961-07-17 & Ouro     & 5529 & 1002.03\\\\\n\t 504 & 2022-01-02 & 6143 &  692.94 & 0.1128016 & 1999-02-14 & Diamante & 8871 &  922.06\\\\\n\t 840 & 2022-01-02 & 5267 & 1496.54 & 0.2841352 & 1983-12-04 & Ouro     & 9589 & 1987.85\\\\\n\t 396 & 2022-01-02 & 1929 &  760.04 & 0.3940073 & 1972-06-30 & Diamante & 2142 &  285.24\\\\\n\\end{tabular}\n",
            "text/plain": [
              "  id_cliente data_transacao milhas_utilizadas valor_pago custo_por_milha\n",
              "1 967        2022-01-01     1198              1217.17    1.0160017      \n",
              "2 747        2022-01-01     8451              1064.09    0.1259129      \n",
              "3 237        2022-01-01     7996              1684.94    0.2107229      \n",
              "4 504        2022-01-02     6143               692.94    0.1128016      \n",
              "5 840        2022-01-02     5267              1496.54    0.2841352      \n",
              "6 396        2022-01-02     1929               760.04    0.3940073      \n",
              "  data_nascimento status_fidelidade milhas_acumuladas gasto_total\n",
              "1 1963-12-21      Prata             7635               710.17    \n",
              "2 1967-04-16      Diamante          1952               706.99    \n",
              "3 1961-07-17      Ouro              5529              1002.03    \n",
              "4 1999-02-14      Diamante          8871               922.06    \n",
              "5 1983-12-04      Ouro              9589              1987.85    \n",
              "6 1972-06-30      Diamante          2142               285.24    "
            ]
          },
          "metadata": {}
        }
      ]
    },
    {
      "cell_type": "markdown",
      "source": [
        "## Renomear colunas"
      ],
      "metadata": {
        "id": "aKhkkuA5Aeuw"
      }
    },
    {
      "cell_type": "code",
      "source": [
        "transacoes_passagens <- transacoes_passagens %>% rename(\n",
        "  Data_Compra_Passagem = data_transacao,\n",
        "  Milhas_Utilizadas = milhas_utilizadas,\n",
        "  Valor_Pago = valor_pago,\n",
        "  Custo_Por_Milha = custo_por_milha,\n",
        "  Data_Nascimento = data_nascimento,\n",
        "  Status_Fidelidade = status_fidelidade,\n",
        "  Milhas_Acumuladas = milhas_acumuladas,\n",
        "  Gasto_Total = gasto_total\n",
        ")"
      ],
      "metadata": {
        "id": "rgbl46hr_X6M"
      },
      "execution_count": 43,
      "outputs": []
    },
    {
      "cell_type": "code",
      "source": [
        "transacoes_passagens %>% head()"
      ],
      "metadata": {
        "colab": {
          "base_uri": "https://localhost:8080/",
          "height": 286
        },
        "id": "uNb5TwH4BFjW",
        "outputId": "7328d5d6-a533-47a8-a358-30840dd238f5"
      },
      "execution_count": 44,
      "outputs": [
        {
          "output_type": "display_data",
          "data": {
            "text/html": [
              "<table class=\"dataframe\">\n",
              "<caption>A tibble: 6 × 9</caption>\n",
              "<thead>\n",
              "\t<tr><th scope=col>id_cliente</th><th scope=col>Data_Compra_Passagem</th><th scope=col>Milhas_Utilizadas</th><th scope=col>Valor_Pago</th><th scope=col>Custo_Por_Milha</th><th scope=col>Data_Nascimento</th><th scope=col>Status_Fidelidade</th><th scope=col>Milhas_Acumuladas</th><th scope=col>Gasto_Total</th></tr>\n",
              "\t<tr><th scope=col>&lt;dbl&gt;</th><th scope=col>&lt;date&gt;</th><th scope=col>&lt;dbl&gt;</th><th scope=col>&lt;dbl&gt;</th><th scope=col>&lt;dbl&gt;</th><th scope=col>&lt;date&gt;</th><th scope=col>&lt;chr&gt;</th><th scope=col>&lt;dbl&gt;</th><th scope=col>&lt;dbl&gt;</th></tr>\n",
              "</thead>\n",
              "<tbody>\n",
              "\t<tr><td>967</td><td>2022-01-01</td><td>1198</td><td>1217.17</td><td>1.0160017</td><td>1963-12-21</td><td>Prata   </td><td>7635</td><td> 710.17</td></tr>\n",
              "\t<tr><td>747</td><td>2022-01-01</td><td>8451</td><td>1064.09</td><td>0.1259129</td><td>1967-04-16</td><td>Diamante</td><td>1952</td><td> 706.99</td></tr>\n",
              "\t<tr><td>237</td><td>2022-01-01</td><td>7996</td><td>1684.94</td><td>0.2107229</td><td>1961-07-17</td><td>Ouro    </td><td>5529</td><td>1002.03</td></tr>\n",
              "\t<tr><td>504</td><td>2022-01-02</td><td>6143</td><td> 692.94</td><td>0.1128016</td><td>1999-02-14</td><td>Diamante</td><td>8871</td><td> 922.06</td></tr>\n",
              "\t<tr><td>840</td><td>2022-01-02</td><td>5267</td><td>1496.54</td><td>0.2841352</td><td>1983-12-04</td><td>Ouro    </td><td>9589</td><td>1987.85</td></tr>\n",
              "\t<tr><td>396</td><td>2022-01-02</td><td>1929</td><td> 760.04</td><td>0.3940073</td><td>1972-06-30</td><td>Diamante</td><td>2142</td><td> 285.24</td></tr>\n",
              "</tbody>\n",
              "</table>\n"
            ],
            "text/markdown": "\nA tibble: 6 × 9\n\n| id_cliente &lt;dbl&gt; | Data_Compra_Passagem &lt;date&gt; | Milhas_Utilizadas &lt;dbl&gt; | Valor_Pago &lt;dbl&gt; | Custo_Por_Milha &lt;dbl&gt; | Data_Nascimento &lt;date&gt; | Status_Fidelidade &lt;chr&gt; | Milhas_Acumuladas &lt;dbl&gt; | Gasto_Total &lt;dbl&gt; |\n|---|---|---|---|---|---|---|---|---|\n| 967 | 2022-01-01 | 1198 | 1217.17 | 1.0160017 | 1963-12-21 | Prata    | 7635 |  710.17 |\n| 747 | 2022-01-01 | 8451 | 1064.09 | 0.1259129 | 1967-04-16 | Diamante | 1952 |  706.99 |\n| 237 | 2022-01-01 | 7996 | 1684.94 | 0.2107229 | 1961-07-17 | Ouro     | 5529 | 1002.03 |\n| 504 | 2022-01-02 | 6143 |  692.94 | 0.1128016 | 1999-02-14 | Diamante | 8871 |  922.06 |\n| 840 | 2022-01-02 | 5267 | 1496.54 | 0.2841352 | 1983-12-04 | Ouro     | 9589 | 1987.85 |\n| 396 | 2022-01-02 | 1929 |  760.04 | 0.3940073 | 1972-06-30 | Diamante | 2142 |  285.24 |\n\n",
            "text/latex": "A tibble: 6 × 9\n\\begin{tabular}{lllllllll}\n id\\_cliente & Data\\_Compra\\_Passagem & Milhas\\_Utilizadas & Valor\\_Pago & Custo\\_Por\\_Milha & Data\\_Nascimento & Status\\_Fidelidade & Milhas\\_Acumuladas & Gasto\\_Total\\\\\n <dbl> & <date> & <dbl> & <dbl> & <dbl> & <date> & <chr> & <dbl> & <dbl>\\\\\n\\hline\n\t 967 & 2022-01-01 & 1198 & 1217.17 & 1.0160017 & 1963-12-21 & Prata    & 7635 &  710.17\\\\\n\t 747 & 2022-01-01 & 8451 & 1064.09 & 0.1259129 & 1967-04-16 & Diamante & 1952 &  706.99\\\\\n\t 237 & 2022-01-01 & 7996 & 1684.94 & 0.2107229 & 1961-07-17 & Ouro     & 5529 & 1002.03\\\\\n\t 504 & 2022-01-02 & 6143 &  692.94 & 0.1128016 & 1999-02-14 & Diamante & 8871 &  922.06\\\\\n\t 840 & 2022-01-02 & 5267 & 1496.54 & 0.2841352 & 1983-12-04 & Ouro     & 9589 & 1987.85\\\\\n\t 396 & 2022-01-02 & 1929 &  760.04 & 0.3940073 & 1972-06-30 & Diamante & 2142 &  285.24\\\\\n\\end{tabular}\n",
            "text/plain": [
              "  id_cliente Data_Compra_Passagem Milhas_Utilizadas Valor_Pago Custo_Por_Milha\n",
              "1 967        2022-01-01           1198              1217.17    1.0160017      \n",
              "2 747        2022-01-01           8451              1064.09    0.1259129      \n",
              "3 237        2022-01-01           7996              1684.94    0.2107229      \n",
              "4 504        2022-01-02           6143               692.94    0.1128016      \n",
              "5 840        2022-01-02           5267              1496.54    0.2841352      \n",
              "6 396        2022-01-02           1929               760.04    0.3940073      \n",
              "  Data_Nascimento Status_Fidelidade Milhas_Acumuladas Gasto_Total\n",
              "1 1963-12-21      Prata             7635               710.17    \n",
              "2 1967-04-16      Diamante          1952               706.99    \n",
              "3 1961-07-17      Ouro              5529              1002.03    \n",
              "4 1999-02-14      Diamante          8871               922.06    \n",
              "5 1983-12-04      Ouro              9589              1987.85    \n",
              "6 1972-06-30      Diamante          2142               285.24    "
            ]
          },
          "metadata": {}
        }
      ]
    },
    {
      "cell_type": "code",
      "source": [
        "transacoes_passagens %>% count(id_cliente) %>% rename(Total_Compras=n) %>% arrange(desc(Total_Compras)) %>% head()"
      ],
      "metadata": {
        "colab": {
          "base_uri": "https://localhost:8080/",
          "height": 286
        },
        "id": "1GPDR0Z-CWzu",
        "outputId": "fd97375c-4a78-435b-e66f-784544d0afd8"
      },
      "execution_count": 45,
      "outputs": [
        {
          "output_type": "display_data",
          "data": {
            "text/html": [
              "<table class=\"dataframe\">\n",
              "<caption>A tibble: 6 × 2</caption>\n",
              "<thead>\n",
              "\t<tr><th scope=col>id_cliente</th><th scope=col>Total_Compras</th></tr>\n",
              "\t<tr><th scope=col>&lt;dbl&gt;</th><th scope=col>&lt;int&gt;</th></tr>\n",
              "</thead>\n",
              "<tbody>\n",
              "\t<tr><td>586</td><td>5</td></tr>\n",
              "\t<tr><td>544</td><td>4</td></tr>\n",
              "\t<tr><td>861</td><td>4</td></tr>\n",
              "\t<tr><td>175</td><td>3</td></tr>\n",
              "\t<tr><td>207</td><td>3</td></tr>\n",
              "\t<tr><td>239</td><td>3</td></tr>\n",
              "</tbody>\n",
              "</table>\n"
            ],
            "text/markdown": "\nA tibble: 6 × 2\n\n| id_cliente &lt;dbl&gt; | Total_Compras &lt;int&gt; |\n|---|---|\n| 586 | 5 |\n| 544 | 4 |\n| 861 | 4 |\n| 175 | 3 |\n| 207 | 3 |\n| 239 | 3 |\n\n",
            "text/latex": "A tibble: 6 × 2\n\\begin{tabular}{ll}\n id\\_cliente & Total\\_Compras\\\\\n <dbl> & <int>\\\\\n\\hline\n\t 586 & 5\\\\\n\t 544 & 4\\\\\n\t 861 & 4\\\\\n\t 175 & 3\\\\\n\t 207 & 3\\\\\n\t 239 & 3\\\\\n\\end{tabular}\n",
            "text/plain": [
              "  id_cliente Total_Compras\n",
              "1 586        5            \n",
              "2 544        4            \n",
              "3 861        4            \n",
              "4 175        3            \n",
              "5 207        3            \n",
              "6 239        3            "
            ]
          },
          "metadata": {}
        }
      ]
    },
    {
      "cell_type": "markdown",
      "source": [
        "# 03-Aplicando tecnicas de transformação de dados"
      ],
      "metadata": {
        "id": "hTykc4qICynD"
      }
    },
    {
      "cell_type": "markdown",
      "source": [
        "## Contar o número de compras por cliente"
      ],
      "metadata": {
        "id": "28J3pkNnC86G"
      }
    },
    {
      "cell_type": "code",
      "source": [
        "dados_milhas <- transacoes_passagens %>% select(id_cliente, Milhas_Utilizadas)"
      ],
      "metadata": {
        "id": "EKoeez2WCXqm"
      },
      "execution_count": 47,
      "outputs": []
    },
    {
      "cell_type": "code",
      "source": [
        "total_milhas_por_cliente <- dados_milhas %>% group_by(id_cliente) %>% summarise(total_milhas = sum(Milhas_Utilizadas))"
      ],
      "metadata": {
        "id": "wcKREG5rDgP4"
      },
      "execution_count": 48,
      "outputs": []
    },
    {
      "cell_type": "code",
      "source": [
        "total_milhas_por_cliente %>% arrange(desc (total_milhas))%>%head()"
      ],
      "metadata": {
        "colab": {
          "base_uri": "https://localhost:8080/",
          "height": 286
        },
        "id": "3oS47JgXEOwl",
        "outputId": "e906da0f-32e3-498d-a214-f98f1f7297d4"
      },
      "execution_count": 51,
      "outputs": [
        {
          "output_type": "display_data",
          "data": {
            "text/html": [
              "<table class=\"dataframe\">\n",
              "<caption>A tibble: 6 × 2</caption>\n",
              "<thead>\n",
              "\t<tr><th scope=col>id_cliente</th><th scope=col>total_milhas</th></tr>\n",
              "\t<tr><th scope=col>&lt;dbl&gt;</th><th scope=col>&lt;dbl&gt;</th></tr>\n",
              "</thead>\n",
              "<tbody>\n",
              "\t<tr><td>544</td><td>28726</td></tr>\n",
              "\t<tr><td>572</td><td>22209</td></tr>\n",
              "\t<tr><td>890</td><td>19566</td></tr>\n",
              "\t<tr><td> 96</td><td>19047</td></tr>\n",
              "\t<tr><td>945</td><td>18514</td></tr>\n",
              "\t<tr><td> 32</td><td>18126</td></tr>\n",
              "</tbody>\n",
              "</table>\n"
            ],
            "text/markdown": "\nA tibble: 6 × 2\n\n| id_cliente &lt;dbl&gt; | total_milhas &lt;dbl&gt; |\n|---|---|\n| 544 | 28726 |\n| 572 | 22209 |\n| 890 | 19566 |\n|  96 | 19047 |\n| 945 | 18514 |\n|  32 | 18126 |\n\n",
            "text/latex": "A tibble: 6 × 2\n\\begin{tabular}{ll}\n id\\_cliente & total\\_milhas\\\\\n <dbl> & <dbl>\\\\\n\\hline\n\t 544 & 28726\\\\\n\t 572 & 22209\\\\\n\t 890 & 19566\\\\\n\t  96 & 19047\\\\\n\t 945 & 18514\\\\\n\t  32 & 18126\\\\\n\\end{tabular}\n",
            "text/plain": [
              "  id_cliente total_milhas\n",
              "1 544        28726       \n",
              "2 572        22209       \n",
              "3 890        19566       \n",
              "4  96        19047       \n",
              "5 945        18514       \n",
              "6  32        18126       "
            ]
          },
          "metadata": {}
        }
      ]
    },
    {
      "cell_type": "markdown",
      "source": [
        "## Criação de novas colunas e classificação"
      ],
      "metadata": {
        "id": "QNlejp3_GNHY"
      }
    },
    {
      "cell_type": "markdown",
      "source": [
        "Categorização de Clientes por Milhas Utilizadas:\n",
        "\n",
        "No dataset de transações, os clientes podem ser categorizados em três grupos com base no número de **Milhas Utilizadas** nas transações:\n",
        "\n",
        "- **Baixo**: Clientes que utilizaram **menos de 2.000 milhas**.\n",
        "- **Médio**: Clientes que utilizaram **entre 2.000 e 4.999 milhas**.\n",
        "- **Alto**: Clientes que utilizaram **5.000 milhas ou mais**.\n",
        "\n",
        "Essa categorização facilita a análise do perfil de consumo de milhas, ajudando a segmentar clientes de acordo com seu volume de uso."
      ],
      "metadata": {
        "id": "q6Y6wW82GqkB"
      }
    },
    {
      "cell_type": "code",
      "source": [
        "transacoes_passagens <- transacoes_passagens%>% mutate(\n",
        "  Categoria_cliente = case_when(\n",
        "    Milhas_Utilizadas < 2000 ~ \"Baixo\",\n",
        "    Milhas_Utilizadas < 5000 ~ \"Médio\",\n",
        "    TRUE  ~ \"Alto\"\n",
        "  )\n",
        ")"
      ],
      "metadata": {
        "id": "uglyzxnUETV8"
      },
      "execution_count": 52,
      "outputs": []
    },
    {
      "cell_type": "code",
      "source": [
        "transacoes_passagens %>% head()"
      ],
      "metadata": {
        "colab": {
          "base_uri": "https://localhost:8080/",
          "height": 286
        },
        "id": "gLkBk_lCHg9P",
        "outputId": "1ddc9361-36ba-4516-bc4a-83a79a9bffbc"
      },
      "execution_count": 53,
      "outputs": [
        {
          "output_type": "display_data",
          "data": {
            "text/html": [
              "<table class=\"dataframe\">\n",
              "<caption>A tibble: 6 × 10</caption>\n",
              "<thead>\n",
              "\t<tr><th scope=col>id_cliente</th><th scope=col>Data_Compra_Passagem</th><th scope=col>Milhas_Utilizadas</th><th scope=col>Valor_Pago</th><th scope=col>Custo_Por_Milha</th><th scope=col>Data_Nascimento</th><th scope=col>Status_Fidelidade</th><th scope=col>Milhas_Acumuladas</th><th scope=col>Gasto_Total</th><th scope=col>Categoria_cliente</th></tr>\n",
              "\t<tr><th scope=col>&lt;dbl&gt;</th><th scope=col>&lt;date&gt;</th><th scope=col>&lt;dbl&gt;</th><th scope=col>&lt;dbl&gt;</th><th scope=col>&lt;dbl&gt;</th><th scope=col>&lt;date&gt;</th><th scope=col>&lt;chr&gt;</th><th scope=col>&lt;dbl&gt;</th><th scope=col>&lt;dbl&gt;</th><th scope=col>&lt;chr&gt;</th></tr>\n",
              "</thead>\n",
              "<tbody>\n",
              "\t<tr><td>967</td><td>2022-01-01</td><td>1198</td><td>1217.17</td><td>1.0160017</td><td>1963-12-21</td><td>Prata   </td><td>7635</td><td> 710.17</td><td>Baixo</td></tr>\n",
              "\t<tr><td>747</td><td>2022-01-01</td><td>8451</td><td>1064.09</td><td>0.1259129</td><td>1967-04-16</td><td>Diamante</td><td>1952</td><td> 706.99</td><td>Alto </td></tr>\n",
              "\t<tr><td>237</td><td>2022-01-01</td><td>7996</td><td>1684.94</td><td>0.2107229</td><td>1961-07-17</td><td>Ouro    </td><td>5529</td><td>1002.03</td><td>Alto </td></tr>\n",
              "\t<tr><td>504</td><td>2022-01-02</td><td>6143</td><td> 692.94</td><td>0.1128016</td><td>1999-02-14</td><td>Diamante</td><td>8871</td><td> 922.06</td><td>Alto </td></tr>\n",
              "\t<tr><td>840</td><td>2022-01-02</td><td>5267</td><td>1496.54</td><td>0.2841352</td><td>1983-12-04</td><td>Ouro    </td><td>9589</td><td>1987.85</td><td>Alto </td></tr>\n",
              "\t<tr><td>396</td><td>2022-01-02</td><td>1929</td><td> 760.04</td><td>0.3940073</td><td>1972-06-30</td><td>Diamante</td><td>2142</td><td> 285.24</td><td>Baixo</td></tr>\n",
              "</tbody>\n",
              "</table>\n"
            ],
            "text/markdown": "\nA tibble: 6 × 10\n\n| id_cliente &lt;dbl&gt; | Data_Compra_Passagem &lt;date&gt; | Milhas_Utilizadas &lt;dbl&gt; | Valor_Pago &lt;dbl&gt; | Custo_Por_Milha &lt;dbl&gt; | Data_Nascimento &lt;date&gt; | Status_Fidelidade &lt;chr&gt; | Milhas_Acumuladas &lt;dbl&gt; | Gasto_Total &lt;dbl&gt; | Categoria_cliente &lt;chr&gt; |\n|---|---|---|---|---|---|---|---|---|---|\n| 967 | 2022-01-01 | 1198 | 1217.17 | 1.0160017 | 1963-12-21 | Prata    | 7635 |  710.17 | Baixo |\n| 747 | 2022-01-01 | 8451 | 1064.09 | 0.1259129 | 1967-04-16 | Diamante | 1952 |  706.99 | Alto  |\n| 237 | 2022-01-01 | 7996 | 1684.94 | 0.2107229 | 1961-07-17 | Ouro     | 5529 | 1002.03 | Alto  |\n| 504 | 2022-01-02 | 6143 |  692.94 | 0.1128016 | 1999-02-14 | Diamante | 8871 |  922.06 | Alto  |\n| 840 | 2022-01-02 | 5267 | 1496.54 | 0.2841352 | 1983-12-04 | Ouro     | 9589 | 1987.85 | Alto  |\n| 396 | 2022-01-02 | 1929 |  760.04 | 0.3940073 | 1972-06-30 | Diamante | 2142 |  285.24 | Baixo |\n\n",
            "text/latex": "A tibble: 6 × 10\n\\begin{tabular}{llllllllll}\n id\\_cliente & Data\\_Compra\\_Passagem & Milhas\\_Utilizadas & Valor\\_Pago & Custo\\_Por\\_Milha & Data\\_Nascimento & Status\\_Fidelidade & Milhas\\_Acumuladas & Gasto\\_Total & Categoria\\_cliente\\\\\n <dbl> & <date> & <dbl> & <dbl> & <dbl> & <date> & <chr> & <dbl> & <dbl> & <chr>\\\\\n\\hline\n\t 967 & 2022-01-01 & 1198 & 1217.17 & 1.0160017 & 1963-12-21 & Prata    & 7635 &  710.17 & Baixo\\\\\n\t 747 & 2022-01-01 & 8451 & 1064.09 & 0.1259129 & 1967-04-16 & Diamante & 1952 &  706.99 & Alto \\\\\n\t 237 & 2022-01-01 & 7996 & 1684.94 & 0.2107229 & 1961-07-17 & Ouro     & 5529 & 1002.03 & Alto \\\\\n\t 504 & 2022-01-02 & 6143 &  692.94 & 0.1128016 & 1999-02-14 & Diamante & 8871 &  922.06 & Alto \\\\\n\t 840 & 2022-01-02 & 5267 & 1496.54 & 0.2841352 & 1983-12-04 & Ouro     & 9589 & 1987.85 & Alto \\\\\n\t 396 & 2022-01-02 & 1929 &  760.04 & 0.3940073 & 1972-06-30 & Diamante & 2142 &  285.24 & Baixo\\\\\n\\end{tabular}\n",
            "text/plain": [
              "  id_cliente Data_Compra_Passagem Milhas_Utilizadas Valor_Pago Custo_Por_Milha\n",
              "1 967        2022-01-01           1198              1217.17    1.0160017      \n",
              "2 747        2022-01-01           8451              1064.09    0.1259129      \n",
              "3 237        2022-01-01           7996              1684.94    0.2107229      \n",
              "4 504        2022-01-02           6143               692.94    0.1128016      \n",
              "5 840        2022-01-02           5267              1496.54    0.2841352      \n",
              "6 396        2022-01-02           1929               760.04    0.3940073      \n",
              "  Data_Nascimento Status_Fidelidade Milhas_Acumuladas Gasto_Total\n",
              "1 1963-12-21      Prata             7635               710.17    \n",
              "2 1967-04-16      Diamante          1952               706.99    \n",
              "3 1961-07-17      Ouro              5529              1002.03    \n",
              "4 1999-02-14      Diamante          8871               922.06    \n",
              "5 1983-12-04      Ouro              9589              1987.85    \n",
              "6 1972-06-30      Diamante          2142               285.24    \n",
              "  Categoria_cliente\n",
              "1 Baixo            \n",
              "2 Alto             \n",
              "3 Alto             \n",
              "4 Alto             \n",
              "5 Alto             \n",
              "6 Baixo            "
            ]
          },
          "metadata": {}
        }
      ]
    },
    {
      "cell_type": "markdown",
      "source": [
        "# 04-Entendendo o comportamento do cliente"
      ],
      "metadata": {
        "id": "ErfssDNNIKhz"
      }
    },
    {
      "cell_type": "markdown",
      "source": [
        "## Diferença de milhas e previsão"
      ],
      "metadata": {
        "id": "DdyJLJhJISA3"
      }
    },
    {
      "cell_type": "code",
      "source": [
        "transacoes_passagens <- transacoes_passagens%>%\n",
        "                        arrange(id_cliente, Data_Compra_Passagem)%>%\n",
        "                        group_by(id_cliente)%>%\n",
        "                        mutate(\n",
        "                               diferenca_milhas = Milhas_Utilizadas - lag(Milhas_Utilizadas),\n",
        "                               diferenca_milhas_futuro = lead(Milhas_Utilizadas)\n",
        "                        )%>%\n",
        "                          ungroup()"
      ],
      "metadata": {
        "id": "_aZBHBGeHmYN"
      },
      "execution_count": 54,
      "outputs": []
    },
    {
      "cell_type": "code",
      "source": [
        "transacoes_passagens %>% head()"
      ],
      "metadata": {
        "colab": {
          "base_uri": "https://localhost:8080/",
          "height": 306
        },
        "id": "gvOW76chKRES",
        "outputId": "442366b3-ffb0-4208-fe94-3f0267868cea"
      },
      "execution_count": 55,
      "outputs": [
        {
          "output_type": "display_data",
          "data": {
            "text/html": [
              "<table class=\"dataframe\">\n",
              "<caption>A tibble: 6 × 12</caption>\n",
              "<thead>\n",
              "\t<tr><th scope=col>id_cliente</th><th scope=col>Data_Compra_Passagem</th><th scope=col>Milhas_Utilizadas</th><th scope=col>Valor_Pago</th><th scope=col>Custo_Por_Milha</th><th scope=col>Data_Nascimento</th><th scope=col>Status_Fidelidade</th><th scope=col>Milhas_Acumuladas</th><th scope=col>Gasto_Total</th><th scope=col>Categoria_cliente</th><th scope=col>diferenca_milhas</th><th scope=col>diferenca_milhas_futuro</th></tr>\n",
              "\t<tr><th scope=col>&lt;dbl&gt;</th><th scope=col>&lt;date&gt;</th><th scope=col>&lt;dbl&gt;</th><th scope=col>&lt;dbl&gt;</th><th scope=col>&lt;dbl&gt;</th><th scope=col>&lt;date&gt;</th><th scope=col>&lt;chr&gt;</th><th scope=col>&lt;dbl&gt;</th><th scope=col>&lt;dbl&gt;</th><th scope=col>&lt;chr&gt;</th><th scope=col>&lt;dbl&gt;</th><th scope=col>&lt;dbl&gt;</th></tr>\n",
              "</thead>\n",
              "<tbody>\n",
              "\t<tr><td> 3</td><td>2022-03-24</td><td>1023</td><td>1588.11</td><td>1.55240469</td><td>1994-07-18</td><td>Diamante</td><td> 917</td><td> 519.16</td><td>Baixo</td><td>   NA</td><td>  NA</td></tr>\n",
              "\t<tr><td> 7</td><td>2022-09-16</td><td>9449</td><td>1906.01</td><td>0.20171553</td><td>1972-08-06</td><td>Diamante</td><td>2583</td><td> 924.60</td><td>Alto </td><td>   NA</td><td>4700</td></tr>\n",
              "\t<tr><td> 7</td><td>2022-12-07</td><td>4700</td><td>1285.88</td><td>0.27359149</td><td>1972-08-06</td><td>Diamante</td><td>2583</td><td> 924.60</td><td>Médio</td><td>-4749</td><td>  NA</td></tr>\n",
              "\t<tr><td>10</td><td>2022-06-07</td><td>6537</td><td> 469.28</td><td>0.07178828</td><td>1980-03-12</td><td>Bronze  </td><td>3829</td><td> 595.78</td><td>Alto </td><td>   NA</td><td>  NA</td></tr>\n",
              "\t<tr><td>12</td><td>2022-10-29</td><td>9312</td><td> 570.34</td><td>0.06124785</td><td>1978-10-09</td><td>Diamante</td><td>8857</td><td>1310.66</td><td>Alto </td><td>   NA</td><td>  NA</td></tr>\n",
              "\t<tr><td>13</td><td>2022-09-07</td><td>4123</td><td> 240.23</td><td>0.05826583</td><td>1996-12-31</td><td>Ouro    </td><td>2228</td><td>1316.16</td><td>Médio</td><td>   NA</td><td>  NA</td></tr>\n",
              "</tbody>\n",
              "</table>\n"
            ],
            "text/markdown": "\nA tibble: 6 × 12\n\n| id_cliente &lt;dbl&gt; | Data_Compra_Passagem &lt;date&gt; | Milhas_Utilizadas &lt;dbl&gt; | Valor_Pago &lt;dbl&gt; | Custo_Por_Milha &lt;dbl&gt; | Data_Nascimento &lt;date&gt; | Status_Fidelidade &lt;chr&gt; | Milhas_Acumuladas &lt;dbl&gt; | Gasto_Total &lt;dbl&gt; | Categoria_cliente &lt;chr&gt; | diferenca_milhas &lt;dbl&gt; | diferenca_milhas_futuro &lt;dbl&gt; |\n|---|---|---|---|---|---|---|---|---|---|---|---|\n|  3 | 2022-03-24 | 1023 | 1588.11 | 1.55240469 | 1994-07-18 | Diamante |  917 |  519.16 | Baixo |    NA |   NA |\n|  7 | 2022-09-16 | 9449 | 1906.01 | 0.20171553 | 1972-08-06 | Diamante | 2583 |  924.60 | Alto  |    NA | 4700 |\n|  7 | 2022-12-07 | 4700 | 1285.88 | 0.27359149 | 1972-08-06 | Diamante | 2583 |  924.60 | Médio | -4749 |   NA |\n| 10 | 2022-06-07 | 6537 |  469.28 | 0.07178828 | 1980-03-12 | Bronze   | 3829 |  595.78 | Alto  |    NA |   NA |\n| 12 | 2022-10-29 | 9312 |  570.34 | 0.06124785 | 1978-10-09 | Diamante | 8857 | 1310.66 | Alto  |    NA |   NA |\n| 13 | 2022-09-07 | 4123 |  240.23 | 0.05826583 | 1996-12-31 | Ouro     | 2228 | 1316.16 | Médio |    NA |   NA |\n\n",
            "text/latex": "A tibble: 6 × 12\n\\begin{tabular}{llllllllllll}\n id\\_cliente & Data\\_Compra\\_Passagem & Milhas\\_Utilizadas & Valor\\_Pago & Custo\\_Por\\_Milha & Data\\_Nascimento & Status\\_Fidelidade & Milhas\\_Acumuladas & Gasto\\_Total & Categoria\\_cliente & diferenca\\_milhas & diferenca\\_milhas\\_futuro\\\\\n <dbl> & <date> & <dbl> & <dbl> & <dbl> & <date> & <chr> & <dbl> & <dbl> & <chr> & <dbl> & <dbl>\\\\\n\\hline\n\t  3 & 2022-03-24 & 1023 & 1588.11 & 1.55240469 & 1994-07-18 & Diamante &  917 &  519.16 & Baixo &    NA &   NA\\\\\n\t  7 & 2022-09-16 & 9449 & 1906.01 & 0.20171553 & 1972-08-06 & Diamante & 2583 &  924.60 & Alto  &    NA & 4700\\\\\n\t  7 & 2022-12-07 & 4700 & 1285.88 & 0.27359149 & 1972-08-06 & Diamante & 2583 &  924.60 & Médio & -4749 &   NA\\\\\n\t 10 & 2022-06-07 & 6537 &  469.28 & 0.07178828 & 1980-03-12 & Bronze   & 3829 &  595.78 & Alto  &    NA &   NA\\\\\n\t 12 & 2022-10-29 & 9312 &  570.34 & 0.06124785 & 1978-10-09 & Diamante & 8857 & 1310.66 & Alto  &    NA &   NA\\\\\n\t 13 & 2022-09-07 & 4123 &  240.23 & 0.05826583 & 1996-12-31 & Ouro     & 2228 & 1316.16 & Médio &    NA &   NA\\\\\n\\end{tabular}\n",
            "text/plain": [
              "  id_cliente Data_Compra_Passagem Milhas_Utilizadas Valor_Pago Custo_Por_Milha\n",
              "1  3         2022-03-24           1023              1588.11    1.55240469     \n",
              "2  7         2022-09-16           9449              1906.01    0.20171553     \n",
              "3  7         2022-12-07           4700              1285.88    0.27359149     \n",
              "4 10         2022-06-07           6537               469.28    0.07178828     \n",
              "5 12         2022-10-29           9312               570.34    0.06124785     \n",
              "6 13         2022-09-07           4123               240.23    0.05826583     \n",
              "  Data_Nascimento Status_Fidelidade Milhas_Acumuladas Gasto_Total\n",
              "1 1994-07-18      Diamante           917               519.16    \n",
              "2 1972-08-06      Diamante          2583               924.60    \n",
              "3 1972-08-06      Diamante          2583               924.60    \n",
              "4 1980-03-12      Bronze            3829               595.78    \n",
              "5 1978-10-09      Diamante          8857              1310.66    \n",
              "6 1996-12-31      Ouro              2228              1316.16    \n",
              "  Categoria_cliente diferenca_milhas diferenca_milhas_futuro\n",
              "1 Baixo                NA              NA                   \n",
              "2 Alto                 NA            4700                   \n",
              "3 Médio             -4749              NA                   \n",
              "4 Alto                 NA              NA                   \n",
              "5 Alto                 NA              NA                   \n",
              "6 Médio                NA              NA                   "
            ]
          },
          "metadata": {}
        }
      ]
    },
    {
      "cell_type": "markdown",
      "source": [
        "## Filtragem e tratamento de valores ausentes"
      ],
      "metadata": {
        "id": "plXEevlWK814"
      }
    },
    {
      "cell_type": "code",
      "source": [
        "any(is.na(transacoes_passagens))"
      ],
      "metadata": {
        "colab": {
          "base_uri": "https://localhost:8080/",
          "height": 34
        },
        "id": "vhF-CgMBKT_6",
        "outputId": "360bf5d2-02d4-4fcf-af49-b7aa9d8f6e8d"
      },
      "execution_count": 56,
      "outputs": [
        {
          "output_type": "display_data",
          "data": {
            "text/html": [
              "TRUE"
            ],
            "text/markdown": "TRUE",
            "text/latex": "TRUE",
            "text/plain": [
              "[1] TRUE"
            ]
          },
          "metadata": {}
        }
      ]
    },
    {
      "cell_type": "code",
      "source": [
        "sum(is.na(transacoes_passagens))"
      ],
      "metadata": {
        "colab": {
          "base_uri": "https://localhost:8080/",
          "height": 34
        },
        "id": "cs-_41nYLlaA",
        "outputId": "dcb1bd2b-4745-4883-8a21-9b4432f9fb5b"
      },
      "execution_count": 57,
      "outputs": [
        {
          "output_type": "display_data",
          "data": {
            "text/html": [
              "788"
            ],
            "text/markdown": "788",
            "text/latex": "788",
            "text/plain": [
              "[1] 788"
            ]
          },
          "metadata": {}
        }
      ]
    },
    {
      "cell_type": "code",
      "source": [
        "num_clientes <- transacoes_passagens %>%\n",
        "  summarise(num_clientes = n_distinct(id_cliente))"
      ],
      "metadata": {
        "id": "IjWCAKHQLpSv"
      },
      "execution_count": 59,
      "outputs": []
    },
    {
      "cell_type": "code",
      "source": [
        "num_clientes * 2"
      ],
      "metadata": {
        "colab": {
          "base_uri": "https://localhost:8080/",
          "height": 147
        },
        "id": "Eb17O7KPMDLg",
        "outputId": "62d43d50-01e6-4ff5-b222-0e3fb9bf39e8"
      },
      "execution_count": 61,
      "outputs": [
        {
          "output_type": "display_data",
          "data": {
            "text/html": [
              "<table class=\"dataframe\">\n",
              "<caption>A data.frame: 1 × 1</caption>\n",
              "<thead>\n",
              "\t<tr><th scope=col>num_clientes</th></tr>\n",
              "\t<tr><th scope=col>&lt;dbl&gt;</th></tr>\n",
              "</thead>\n",
              "<tbody>\n",
              "\t<tr><td>788</td></tr>\n",
              "</tbody>\n",
              "</table>\n"
            ],
            "text/markdown": "\nA data.frame: 1 × 1\n\n| num_clientes &lt;dbl&gt; |\n|---|\n| 788 |\n\n",
            "text/latex": "A data.frame: 1 × 1\n\\begin{tabular}{l}\n num\\_clientes\\\\\n <dbl>\\\\\n\\hline\n\t 788\\\\\n\\end{tabular}\n",
            "text/plain": [
              "  num_clientes\n",
              "1 788         "
            ]
          },
          "metadata": {}
        }
      ]
    },
    {
      "cell_type": "code",
      "source": [
        "transacoes_passagens <- transacoes_passagens %>%\n",
        "  mutate(\n",
        "    diferenca_milhas = coalesce(diferenca_milhas, 0),\n",
        "    diferenca_milhas_futuro = coalesce(diferenca_milhas_futuro, 0)\n",
        "  )"
      ],
      "metadata": {
        "id": "Mls1TvN0Lz9Z"
      },
      "execution_count": 63,
      "outputs": []
    },
    {
      "cell_type": "code",
      "source": [
        "any(is.na(transacoes_passagens))"
      ],
      "metadata": {
        "colab": {
          "base_uri": "https://localhost:8080/",
          "height": 34
        },
        "id": "WCQ6BUCANJsw",
        "outputId": "9862ebb7-2d9c-4710-e546-763a7107c2cd"
      },
      "execution_count": 65,
      "outputs": [
        {
          "output_type": "display_data",
          "data": {
            "text/html": [
              "FALSE"
            ],
            "text/markdown": "FALSE",
            "text/latex": "FALSE",
            "text/plain": [
              "[1] FALSE"
            ]
          },
          "metadata": {}
        }
      ]
    },
    {
      "cell_type": "code",
      "source": [
        "transacoes_passagens %>% arrange(desc(diferenca_milhas)) %>% head(10)"
      ],
      "metadata": {
        "colab": {
          "base_uri": "https://localhost:8080/",
          "height": 431
        },
        "id": "9dQcQ8FOL8Y_",
        "outputId": "109fe22a-42f6-4320-ffb0-f156bde318ad"
      },
      "execution_count": 64,
      "outputs": [
        {
          "output_type": "display_data",
          "data": {
            "text/html": [
              "<table class=\"dataframe\">\n",
              "<caption>A tibble: 10 × 12</caption>\n",
              "<thead>\n",
              "\t<tr><th scope=col>id_cliente</th><th scope=col>Data_Compra_Passagem</th><th scope=col>Milhas_Utilizadas</th><th scope=col>Valor_Pago</th><th scope=col>Custo_Por_Milha</th><th scope=col>Data_Nascimento</th><th scope=col>Status_Fidelidade</th><th scope=col>Milhas_Acumuladas</th><th scope=col>Gasto_Total</th><th scope=col>Categoria_cliente</th><th scope=col>diferenca_milhas</th><th scope=col>diferenca_milhas_futuro</th></tr>\n",
              "\t<tr><th scope=col>&lt;dbl&gt;</th><th scope=col>&lt;date&gt;</th><th scope=col>&lt;dbl&gt;</th><th scope=col>&lt;dbl&gt;</th><th scope=col>&lt;dbl&gt;</th><th scope=col>&lt;date&gt;</th><th scope=col>&lt;chr&gt;</th><th scope=col>&lt;dbl&gt;</th><th scope=col>&lt;dbl&gt;</th><th scope=col>&lt;chr&gt;</th><th scope=col>&lt;dbl&gt;</th><th scope=col>&lt;dbl&gt;</th></tr>\n",
              "</thead>\n",
              "<tbody>\n",
              "\t<tr><td>625</td><td>2022-12-30</td><td>7566</td><td>1890.54</td><td>0.24987312</td><td>1971-12-03</td><td>Bronze  </td><td>2787</td><td> 897.42</td><td>Alto</td><td>7122</td><td>0</td></tr>\n",
              "\t<tr><td>961</td><td>2022-12-30</td><td>7215</td><td> 594.29</td><td>0.08236868</td><td>2005-03-17</td><td>Ouro    </td><td>1488</td><td>1011.49</td><td>Alto</td><td>7095</td><td>0</td></tr>\n",
              "\t<tr><td>151</td><td>2022-08-28</td><td>8923</td><td> 689.02</td><td>0.07721842</td><td>1990-04-19</td><td>Ouro    </td><td>6262</td><td>1087.80</td><td>Alto</td><td>7009</td><td>0</td></tr>\n",
              "\t<tr><td>820</td><td>2022-11-09</td><td>9658</td><td> 472.85</td><td>0.04895941</td><td>1995-10-31</td><td>Diamante</td><td>3916</td><td>1843.98</td><td>Alto</td><td>6848</td><td>0</td></tr>\n",
              "\t<tr><td>807</td><td>2022-10-24</td><td>7239</td><td> 361.49</td><td>0.04993646</td><td>1991-07-08</td><td>Diamante</td><td>9252</td><td>1515.46</td><td>Alto</td><td>6740</td><td>0</td></tr>\n",
              "\t<tr><td>370</td><td>2022-09-23</td><td>8858</td><td> 884.50</td><td>0.09985324</td><td>1988-11-02</td><td>Bronze  </td><td>5013</td><td>1905.95</td><td>Alto</td><td>6545</td><td>0</td></tr>\n",
              "\t<tr><td>586</td><td>2022-11-20</td><td>9478</td><td>1070.43</td><td>0.11293838</td><td>1967-06-08</td><td>Ouro    </td><td> 463</td><td> 980.86</td><td>Alto</td><td>6222</td><td>0</td></tr>\n",
              "\t<tr><td>945</td><td>2022-12-19</td><td>7559</td><td>1441.52</td><td>0.19070247</td><td>1988-04-26</td><td>Prata   </td><td>5547</td><td>1801.21</td><td>Alto</td><td>6143</td><td>0</td></tr>\n",
              "\t<tr><td>332</td><td>2022-09-13</td><td>8010</td><td>1669.10</td><td>0.20837703</td><td>2002-04-14</td><td>Prata   </td><td>4243</td><td> 920.32</td><td>Alto</td><td>6112</td><td>0</td></tr>\n",
              "\t<tr><td>524</td><td>2022-05-01</td><td>7567</td><td>1649.38</td><td>0.21797013</td><td>2000-08-16</td><td>Ouro    </td><td>1139</td><td>1031.52</td><td>Alto</td><td>6041</td><td>0</td></tr>\n",
              "</tbody>\n",
              "</table>\n"
            ],
            "text/markdown": "\nA tibble: 10 × 12\n\n| id_cliente &lt;dbl&gt; | Data_Compra_Passagem &lt;date&gt; | Milhas_Utilizadas &lt;dbl&gt; | Valor_Pago &lt;dbl&gt; | Custo_Por_Milha &lt;dbl&gt; | Data_Nascimento &lt;date&gt; | Status_Fidelidade &lt;chr&gt; | Milhas_Acumuladas &lt;dbl&gt; | Gasto_Total &lt;dbl&gt; | Categoria_cliente &lt;chr&gt; | diferenca_milhas &lt;dbl&gt; | diferenca_milhas_futuro &lt;dbl&gt; |\n|---|---|---|---|---|---|---|---|---|---|---|---|\n| 625 | 2022-12-30 | 7566 | 1890.54 | 0.24987312 | 1971-12-03 | Bronze   | 2787 |  897.42 | Alto | 7122 | 0 |\n| 961 | 2022-12-30 | 7215 |  594.29 | 0.08236868 | 2005-03-17 | Ouro     | 1488 | 1011.49 | Alto | 7095 | 0 |\n| 151 | 2022-08-28 | 8923 |  689.02 | 0.07721842 | 1990-04-19 | Ouro     | 6262 | 1087.80 | Alto | 7009 | 0 |\n| 820 | 2022-11-09 | 9658 |  472.85 | 0.04895941 | 1995-10-31 | Diamante | 3916 | 1843.98 | Alto | 6848 | 0 |\n| 807 | 2022-10-24 | 7239 |  361.49 | 0.04993646 | 1991-07-08 | Diamante | 9252 | 1515.46 | Alto | 6740 | 0 |\n| 370 | 2022-09-23 | 8858 |  884.50 | 0.09985324 | 1988-11-02 | Bronze   | 5013 | 1905.95 | Alto | 6545 | 0 |\n| 586 | 2022-11-20 | 9478 | 1070.43 | 0.11293838 | 1967-06-08 | Ouro     |  463 |  980.86 | Alto | 6222 | 0 |\n| 945 | 2022-12-19 | 7559 | 1441.52 | 0.19070247 | 1988-04-26 | Prata    | 5547 | 1801.21 | Alto | 6143 | 0 |\n| 332 | 2022-09-13 | 8010 | 1669.10 | 0.20837703 | 2002-04-14 | Prata    | 4243 |  920.32 | Alto | 6112 | 0 |\n| 524 | 2022-05-01 | 7567 | 1649.38 | 0.21797013 | 2000-08-16 | Ouro     | 1139 | 1031.52 | Alto | 6041 | 0 |\n\n",
            "text/latex": "A tibble: 10 × 12\n\\begin{tabular}{llllllllllll}\n id\\_cliente & Data\\_Compra\\_Passagem & Milhas\\_Utilizadas & Valor\\_Pago & Custo\\_Por\\_Milha & Data\\_Nascimento & Status\\_Fidelidade & Milhas\\_Acumuladas & Gasto\\_Total & Categoria\\_cliente & diferenca\\_milhas & diferenca\\_milhas\\_futuro\\\\\n <dbl> & <date> & <dbl> & <dbl> & <dbl> & <date> & <chr> & <dbl> & <dbl> & <chr> & <dbl> & <dbl>\\\\\n\\hline\n\t 625 & 2022-12-30 & 7566 & 1890.54 & 0.24987312 & 1971-12-03 & Bronze   & 2787 &  897.42 & Alto & 7122 & 0\\\\\n\t 961 & 2022-12-30 & 7215 &  594.29 & 0.08236868 & 2005-03-17 & Ouro     & 1488 & 1011.49 & Alto & 7095 & 0\\\\\n\t 151 & 2022-08-28 & 8923 &  689.02 & 0.07721842 & 1990-04-19 & Ouro     & 6262 & 1087.80 & Alto & 7009 & 0\\\\\n\t 820 & 2022-11-09 & 9658 &  472.85 & 0.04895941 & 1995-10-31 & Diamante & 3916 & 1843.98 & Alto & 6848 & 0\\\\\n\t 807 & 2022-10-24 & 7239 &  361.49 & 0.04993646 & 1991-07-08 & Diamante & 9252 & 1515.46 & Alto & 6740 & 0\\\\\n\t 370 & 2022-09-23 & 8858 &  884.50 & 0.09985324 & 1988-11-02 & Bronze   & 5013 & 1905.95 & Alto & 6545 & 0\\\\\n\t 586 & 2022-11-20 & 9478 & 1070.43 & 0.11293838 & 1967-06-08 & Ouro     &  463 &  980.86 & Alto & 6222 & 0\\\\\n\t 945 & 2022-12-19 & 7559 & 1441.52 & 0.19070247 & 1988-04-26 & Prata    & 5547 & 1801.21 & Alto & 6143 & 0\\\\\n\t 332 & 2022-09-13 & 8010 & 1669.10 & 0.20837703 & 2002-04-14 & Prata    & 4243 &  920.32 & Alto & 6112 & 0\\\\\n\t 524 & 2022-05-01 & 7567 & 1649.38 & 0.21797013 & 2000-08-16 & Ouro     & 1139 & 1031.52 & Alto & 6041 & 0\\\\\n\\end{tabular}\n",
            "text/plain": [
              "   id_cliente Data_Compra_Passagem Milhas_Utilizadas Valor_Pago Custo_Por_Milha\n",
              "1  625        2022-12-30           7566              1890.54    0.24987312     \n",
              "2  961        2022-12-30           7215               594.29    0.08236868     \n",
              "3  151        2022-08-28           8923               689.02    0.07721842     \n",
              "4  820        2022-11-09           9658               472.85    0.04895941     \n",
              "5  807        2022-10-24           7239               361.49    0.04993646     \n",
              "6  370        2022-09-23           8858               884.50    0.09985324     \n",
              "7  586        2022-11-20           9478              1070.43    0.11293838     \n",
              "8  945        2022-12-19           7559              1441.52    0.19070247     \n",
              "9  332        2022-09-13           8010              1669.10    0.20837703     \n",
              "10 524        2022-05-01           7567              1649.38    0.21797013     \n",
              "   Data_Nascimento Status_Fidelidade Milhas_Acumuladas Gasto_Total\n",
              "1  1971-12-03      Bronze            2787               897.42    \n",
              "2  2005-03-17      Ouro              1488              1011.49    \n",
              "3  1990-04-19      Ouro              6262              1087.80    \n",
              "4  1995-10-31      Diamante          3916              1843.98    \n",
              "5  1991-07-08      Diamante          9252              1515.46    \n",
              "6  1988-11-02      Bronze            5013              1905.95    \n",
              "7  1967-06-08      Ouro               463               980.86    \n",
              "8  1988-04-26      Prata             5547              1801.21    \n",
              "9  2002-04-14      Prata             4243               920.32    \n",
              "10 2000-08-16      Ouro              1139              1031.52    \n",
              "   Categoria_cliente diferenca_milhas diferenca_milhas_futuro\n",
              "1  Alto              7122             0                      \n",
              "2  Alto              7095             0                      \n",
              "3  Alto              7009             0                      \n",
              "4  Alto              6848             0                      \n",
              "5  Alto              6740             0                      \n",
              "6  Alto              6545             0                      \n",
              "7  Alto              6222             0                      \n",
              "8  Alto              6143             0                      \n",
              "9  Alto              6112             0                      \n",
              "10 Alto              6041             0                      "
            ]
          },
          "metadata": {}
        }
      ]
    },
    {
      "cell_type": "code",
      "source": [
        "transacoes_passagens %>% arrange(desc(diferenca_milhas_futuro)) %>% head(10)"
      ],
      "metadata": {
        "colab": {
          "base_uri": "https://localhost:8080/",
          "height": 431
        },
        "id": "Cy1lU18WL9S_",
        "outputId": "d7e796db-0bd7-4250-ba37-a9722bbe89e6"
      },
      "execution_count": 67,
      "outputs": [
        {
          "output_type": "display_data",
          "data": {
            "text/html": [
              "<table class=\"dataframe\">\n",
              "<caption>A tibble: 10 × 12</caption>\n",
              "<thead>\n",
              "\t<tr><th scope=col>id_cliente</th><th scope=col>Data_Compra_Passagem</th><th scope=col>Milhas_Utilizadas</th><th scope=col>Valor_Pago</th><th scope=col>Custo_Por_Milha</th><th scope=col>Data_Nascimento</th><th scope=col>Status_Fidelidade</th><th scope=col>Milhas_Acumuladas</th><th scope=col>Gasto_Total</th><th scope=col>Categoria_cliente</th><th scope=col>diferenca_milhas</th><th scope=col>diferenca_milhas_futuro</th></tr>\n",
              "\t<tr><th scope=col>&lt;dbl&gt;</th><th scope=col>&lt;date&gt;</th><th scope=col>&lt;dbl&gt;</th><th scope=col>&lt;dbl&gt;</th><th scope=col>&lt;dbl&gt;</th><th scope=col>&lt;date&gt;</th><th scope=col>&lt;chr&gt;</th><th scope=col>&lt;dbl&gt;</th><th scope=col>&lt;dbl&gt;</th><th scope=col>&lt;chr&gt;</th><th scope=col>&lt;dbl&gt;</th><th scope=col>&lt;dbl&gt;</th></tr>\n",
              "</thead>\n",
              "<tbody>\n",
              "\t<tr><td>912</td><td>2022-05-11</td><td>4572</td><td> 494.11</td><td>0.10807305</td><td>1962-02-02</td><td>Diamante</td><td>1929</td><td>1788.99</td><td>Médio</td><td>  0</td><td>9910</td></tr>\n",
              "\t<tr><td>685</td><td>2022-06-19</td><td>4529</td><td>1612.55</td><td>0.35604990</td><td>1980-05-05</td><td>Bronze  </td><td>4673</td><td>1553.53</td><td>Médio</td><td>  0</td><td>9755</td></tr>\n",
              "\t<tr><td>371</td><td>2022-03-03</td><td>5410</td><td> 143.81</td><td>0.02658226</td><td>1988-09-22</td><td>Prata   </td><td>7580</td><td>1834.72</td><td>Alto </td><td>  0</td><td>9720</td></tr>\n",
              "\t<tr><td>820</td><td>2022-07-06</td><td>2810</td><td>1540.07</td><td>0.54806762</td><td>1995-10-31</td><td>Diamante</td><td>3916</td><td>1843.98</td><td>Médio</td><td>  0</td><td>9658</td></tr>\n",
              "\t<tr><td>890</td><td>2022-02-01</td><td>9951</td><td> 637.93</td><td>0.06410712</td><td>1974-03-14</td><td>Diamante</td><td> 900</td><td>1615.20</td><td>Alto </td><td>  0</td><td>9615</td></tr>\n",
              "\t<tr><td>586</td><td>2022-09-06</td><td>3256</td><td> 357.72</td><td>0.10986486</td><td>1967-06-08</td><td>Ouro    </td><td> 463</td><td> 980.86</td><td>Médio</td><td>737</td><td>9478</td></tr>\n",
              "\t<tr><td> 96</td><td>2022-03-14</td><td>9603</td><td>1917.23</td><td>0.19964907</td><td>1960-08-13</td><td>Prata   </td><td>8772</td><td> 406.40</td><td>Alto </td><td>  0</td><td>9444</td></tr>\n",
              "\t<tr><td>548</td><td>2022-02-19</td><td>6482</td><td> 687.07</td><td>0.10599661</td><td>1977-10-19</td><td>Ouro    </td><td>2011</td><td> 943.66</td><td>Alto </td><td>  0</td><td>9317</td></tr>\n",
              "\t<tr><td>144</td><td>2022-05-08</td><td>6847</td><td>1435.24</td><td>0.20961589</td><td>1981-08-02</td><td>Ouro    </td><td>4620</td><td>1300.02</td><td>Alto </td><td>  0</td><td>9275</td></tr>\n",
              "\t<tr><td>583</td><td>2022-01-29</td><td>5653</td><td> 435.02</td><td>0.07695383</td><td>1971-01-03</td><td>Ouro    </td><td>9373</td><td> 619.76</td><td>Alto </td><td>  0</td><td>8997</td></tr>\n",
              "</tbody>\n",
              "</table>\n"
            ],
            "text/markdown": "\nA tibble: 10 × 12\n\n| id_cliente &lt;dbl&gt; | Data_Compra_Passagem &lt;date&gt; | Milhas_Utilizadas &lt;dbl&gt; | Valor_Pago &lt;dbl&gt; | Custo_Por_Milha &lt;dbl&gt; | Data_Nascimento &lt;date&gt; | Status_Fidelidade &lt;chr&gt; | Milhas_Acumuladas &lt;dbl&gt; | Gasto_Total &lt;dbl&gt; | Categoria_cliente &lt;chr&gt; | diferenca_milhas &lt;dbl&gt; | diferenca_milhas_futuro &lt;dbl&gt; |\n|---|---|---|---|---|---|---|---|---|---|---|---|\n| 912 | 2022-05-11 | 4572 |  494.11 | 0.10807305 | 1962-02-02 | Diamante | 1929 | 1788.99 | Médio |   0 | 9910 |\n| 685 | 2022-06-19 | 4529 | 1612.55 | 0.35604990 | 1980-05-05 | Bronze   | 4673 | 1553.53 | Médio |   0 | 9755 |\n| 371 | 2022-03-03 | 5410 |  143.81 | 0.02658226 | 1988-09-22 | Prata    | 7580 | 1834.72 | Alto  |   0 | 9720 |\n| 820 | 2022-07-06 | 2810 | 1540.07 | 0.54806762 | 1995-10-31 | Diamante | 3916 | 1843.98 | Médio |   0 | 9658 |\n| 890 | 2022-02-01 | 9951 |  637.93 | 0.06410712 | 1974-03-14 | Diamante |  900 | 1615.20 | Alto  |   0 | 9615 |\n| 586 | 2022-09-06 | 3256 |  357.72 | 0.10986486 | 1967-06-08 | Ouro     |  463 |  980.86 | Médio | 737 | 9478 |\n|  96 | 2022-03-14 | 9603 | 1917.23 | 0.19964907 | 1960-08-13 | Prata    | 8772 |  406.40 | Alto  |   0 | 9444 |\n| 548 | 2022-02-19 | 6482 |  687.07 | 0.10599661 | 1977-10-19 | Ouro     | 2011 |  943.66 | Alto  |   0 | 9317 |\n| 144 | 2022-05-08 | 6847 | 1435.24 | 0.20961589 | 1981-08-02 | Ouro     | 4620 | 1300.02 | Alto  |   0 | 9275 |\n| 583 | 2022-01-29 | 5653 |  435.02 | 0.07695383 | 1971-01-03 | Ouro     | 9373 |  619.76 | Alto  |   0 | 8997 |\n\n",
            "text/latex": "A tibble: 10 × 12\n\\begin{tabular}{llllllllllll}\n id\\_cliente & Data\\_Compra\\_Passagem & Milhas\\_Utilizadas & Valor\\_Pago & Custo\\_Por\\_Milha & Data\\_Nascimento & Status\\_Fidelidade & Milhas\\_Acumuladas & Gasto\\_Total & Categoria\\_cliente & diferenca\\_milhas & diferenca\\_milhas\\_futuro\\\\\n <dbl> & <date> & <dbl> & <dbl> & <dbl> & <date> & <chr> & <dbl> & <dbl> & <chr> & <dbl> & <dbl>\\\\\n\\hline\n\t 912 & 2022-05-11 & 4572 &  494.11 & 0.10807305 & 1962-02-02 & Diamante & 1929 & 1788.99 & Médio &   0 & 9910\\\\\n\t 685 & 2022-06-19 & 4529 & 1612.55 & 0.35604990 & 1980-05-05 & Bronze   & 4673 & 1553.53 & Médio &   0 & 9755\\\\\n\t 371 & 2022-03-03 & 5410 &  143.81 & 0.02658226 & 1988-09-22 & Prata    & 7580 & 1834.72 & Alto  &   0 & 9720\\\\\n\t 820 & 2022-07-06 & 2810 & 1540.07 & 0.54806762 & 1995-10-31 & Diamante & 3916 & 1843.98 & Médio &   0 & 9658\\\\\n\t 890 & 2022-02-01 & 9951 &  637.93 & 0.06410712 & 1974-03-14 & Diamante &  900 & 1615.20 & Alto  &   0 & 9615\\\\\n\t 586 & 2022-09-06 & 3256 &  357.72 & 0.10986486 & 1967-06-08 & Ouro     &  463 &  980.86 & Médio & 737 & 9478\\\\\n\t  96 & 2022-03-14 & 9603 & 1917.23 & 0.19964907 & 1960-08-13 & Prata    & 8772 &  406.40 & Alto  &   0 & 9444\\\\\n\t 548 & 2022-02-19 & 6482 &  687.07 & 0.10599661 & 1977-10-19 & Ouro     & 2011 &  943.66 & Alto  &   0 & 9317\\\\\n\t 144 & 2022-05-08 & 6847 & 1435.24 & 0.20961589 & 1981-08-02 & Ouro     & 4620 & 1300.02 & Alto  &   0 & 9275\\\\\n\t 583 & 2022-01-29 & 5653 &  435.02 & 0.07695383 & 1971-01-03 & Ouro     & 9373 &  619.76 & Alto  &   0 & 8997\\\\\n\\end{tabular}\n",
            "text/plain": [
              "   id_cliente Data_Compra_Passagem Milhas_Utilizadas Valor_Pago Custo_Por_Milha\n",
              "1  912        2022-05-11           4572               494.11    0.10807305     \n",
              "2  685        2022-06-19           4529              1612.55    0.35604990     \n",
              "3  371        2022-03-03           5410               143.81    0.02658226     \n",
              "4  820        2022-07-06           2810              1540.07    0.54806762     \n",
              "5  890        2022-02-01           9951               637.93    0.06410712     \n",
              "6  586        2022-09-06           3256               357.72    0.10986486     \n",
              "7   96        2022-03-14           9603              1917.23    0.19964907     \n",
              "8  548        2022-02-19           6482               687.07    0.10599661     \n",
              "9  144        2022-05-08           6847              1435.24    0.20961589     \n",
              "10 583        2022-01-29           5653               435.02    0.07695383     \n",
              "   Data_Nascimento Status_Fidelidade Milhas_Acumuladas Gasto_Total\n",
              "1  1962-02-02      Diamante          1929              1788.99    \n",
              "2  1980-05-05      Bronze            4673              1553.53    \n",
              "3  1988-09-22      Prata             7580              1834.72    \n",
              "4  1995-10-31      Diamante          3916              1843.98    \n",
              "5  1974-03-14      Diamante           900              1615.20    \n",
              "6  1967-06-08      Ouro               463               980.86    \n",
              "7  1960-08-13      Prata             8772               406.40    \n",
              "8  1977-10-19      Ouro              2011               943.66    \n",
              "9  1981-08-02      Ouro              4620              1300.02    \n",
              "10 1971-01-03      Ouro              9373               619.76    \n",
              "   Categoria_cliente diferenca_milhas diferenca_milhas_futuro\n",
              "1  Médio               0              9910                   \n",
              "2  Médio               0              9755                   \n",
              "3  Alto                0              9720                   \n",
              "4  Médio               0              9658                   \n",
              "5  Alto                0              9615                   \n",
              "6  Médio             737              9478                   \n",
              "7  Alto                0              9444                   \n",
              "8  Alto                0              9317                   \n",
              "9  Alto                0              9275                   \n",
              "10 Alto                0              8997                   "
            ]
          },
          "metadata": {}
        }
      ]
    },
    {
      "cell_type": "markdown",
      "source": [
        "# 05-Impulsionando o crescimento com analise de clientes"
      ],
      "metadata": {
        "id": "3lfwYY5LOSqI"
      }
    },
    {
      "cell_type": "markdown",
      "source": [
        "## Classificar clientes com case_when e recode"
      ],
      "metadata": {
        "id": "cG8m85lJOf7g"
      }
    },
    {
      "cell_type": "code",
      "source": [
        "transacoes_passagens <- transacoes_passagens %>%\n",
        "    mutate(Categoria_cliente =\n",
        "        recode (Categoria_cliente,\n",
        "        \"Baixo\" = \"Iniciante\",\n",
        "        \"Médio\" = \"Intermediário\",\n",
        "        \"Alto\" = \"Avançado\"\n",
        "        )\n",
        "    )"
      ],
      "metadata": {
        "id": "MZf59DG3ORnz"
      },
      "execution_count": 72,
      "outputs": []
    },
    {
      "cell_type": "code",
      "source": [
        "transacoes_passagens %>% head()"
      ],
      "metadata": {
        "colab": {
          "base_uri": "https://localhost:8080/",
          "height": 306
        },
        "id": "BNOb3BbfPnZn",
        "outputId": "3ac6cbf4-75e8-45d7-bce9-a74d9f84f748"
      },
      "execution_count": 73,
      "outputs": [
        {
          "output_type": "display_data",
          "data": {
            "text/html": [
              "<table class=\"dataframe\">\n",
              "<caption>A tibble: 6 × 12</caption>\n",
              "<thead>\n",
              "\t<tr><th scope=col>id_cliente</th><th scope=col>Data_Compra_Passagem</th><th scope=col>Milhas_Utilizadas</th><th scope=col>Valor_Pago</th><th scope=col>Custo_Por_Milha</th><th scope=col>Data_Nascimento</th><th scope=col>Status_Fidelidade</th><th scope=col>Milhas_Acumuladas</th><th scope=col>Gasto_Total</th><th scope=col>Categoria_cliente</th><th scope=col>diferenca_milhas</th><th scope=col>diferenca_milhas_futuro</th></tr>\n",
              "\t<tr><th scope=col>&lt;dbl&gt;</th><th scope=col>&lt;date&gt;</th><th scope=col>&lt;dbl&gt;</th><th scope=col>&lt;dbl&gt;</th><th scope=col>&lt;dbl&gt;</th><th scope=col>&lt;date&gt;</th><th scope=col>&lt;chr&gt;</th><th scope=col>&lt;dbl&gt;</th><th scope=col>&lt;dbl&gt;</th><th scope=col>&lt;chr&gt;</th><th scope=col>&lt;dbl&gt;</th><th scope=col>&lt;dbl&gt;</th></tr>\n",
              "</thead>\n",
              "<tbody>\n",
              "\t<tr><td> 3</td><td>2022-03-24</td><td>1023</td><td>1588.11</td><td>1.55240469</td><td>1994-07-18</td><td>Diamante</td><td> 917</td><td> 519.16</td><td>Iniciante    </td><td>    0</td><td>   0</td></tr>\n",
              "\t<tr><td> 7</td><td>2022-09-16</td><td>9449</td><td>1906.01</td><td>0.20171553</td><td>1972-08-06</td><td>Diamante</td><td>2583</td><td> 924.60</td><td>Avançado     </td><td>    0</td><td>4700</td></tr>\n",
              "\t<tr><td> 7</td><td>2022-12-07</td><td>4700</td><td>1285.88</td><td>0.27359149</td><td>1972-08-06</td><td>Diamante</td><td>2583</td><td> 924.60</td><td>Intermediário</td><td>-4749</td><td>   0</td></tr>\n",
              "\t<tr><td>10</td><td>2022-06-07</td><td>6537</td><td> 469.28</td><td>0.07178828</td><td>1980-03-12</td><td>Bronze  </td><td>3829</td><td> 595.78</td><td>Avançado     </td><td>    0</td><td>   0</td></tr>\n",
              "\t<tr><td>12</td><td>2022-10-29</td><td>9312</td><td> 570.34</td><td>0.06124785</td><td>1978-10-09</td><td>Diamante</td><td>8857</td><td>1310.66</td><td>Avançado     </td><td>    0</td><td>   0</td></tr>\n",
              "\t<tr><td>13</td><td>2022-09-07</td><td>4123</td><td> 240.23</td><td>0.05826583</td><td>1996-12-31</td><td>Ouro    </td><td>2228</td><td>1316.16</td><td>Intermediário</td><td>    0</td><td>   0</td></tr>\n",
              "</tbody>\n",
              "</table>\n"
            ],
            "text/markdown": "\nA tibble: 6 × 12\n\n| id_cliente &lt;dbl&gt; | Data_Compra_Passagem &lt;date&gt; | Milhas_Utilizadas &lt;dbl&gt; | Valor_Pago &lt;dbl&gt; | Custo_Por_Milha &lt;dbl&gt; | Data_Nascimento &lt;date&gt; | Status_Fidelidade &lt;chr&gt; | Milhas_Acumuladas &lt;dbl&gt; | Gasto_Total &lt;dbl&gt; | Categoria_cliente &lt;chr&gt; | diferenca_milhas &lt;dbl&gt; | diferenca_milhas_futuro &lt;dbl&gt; |\n|---|---|---|---|---|---|---|---|---|---|---|---|\n|  3 | 2022-03-24 | 1023 | 1588.11 | 1.55240469 | 1994-07-18 | Diamante |  917 |  519.16 | Iniciante     |     0 |    0 |\n|  7 | 2022-09-16 | 9449 | 1906.01 | 0.20171553 | 1972-08-06 | Diamante | 2583 |  924.60 | Avançado      |     0 | 4700 |\n|  7 | 2022-12-07 | 4700 | 1285.88 | 0.27359149 | 1972-08-06 | Diamante | 2583 |  924.60 | Intermediário | -4749 |    0 |\n| 10 | 2022-06-07 | 6537 |  469.28 | 0.07178828 | 1980-03-12 | Bronze   | 3829 |  595.78 | Avançado      |     0 |    0 |\n| 12 | 2022-10-29 | 9312 |  570.34 | 0.06124785 | 1978-10-09 | Diamante | 8857 | 1310.66 | Avançado      |     0 |    0 |\n| 13 | 2022-09-07 | 4123 |  240.23 | 0.05826583 | 1996-12-31 | Ouro     | 2228 | 1316.16 | Intermediário |     0 |    0 |\n\n",
            "text/latex": "A tibble: 6 × 12\n\\begin{tabular}{llllllllllll}\n id\\_cliente & Data\\_Compra\\_Passagem & Milhas\\_Utilizadas & Valor\\_Pago & Custo\\_Por\\_Milha & Data\\_Nascimento & Status\\_Fidelidade & Milhas\\_Acumuladas & Gasto\\_Total & Categoria\\_cliente & diferenca\\_milhas & diferenca\\_milhas\\_futuro\\\\\n <dbl> & <date> & <dbl> & <dbl> & <dbl> & <date> & <chr> & <dbl> & <dbl> & <chr> & <dbl> & <dbl>\\\\\n\\hline\n\t  3 & 2022-03-24 & 1023 & 1588.11 & 1.55240469 & 1994-07-18 & Diamante &  917 &  519.16 & Iniciante     &     0 &    0\\\\\n\t  7 & 2022-09-16 & 9449 & 1906.01 & 0.20171553 & 1972-08-06 & Diamante & 2583 &  924.60 & Avançado      &     0 & 4700\\\\\n\t  7 & 2022-12-07 & 4700 & 1285.88 & 0.27359149 & 1972-08-06 & Diamante & 2583 &  924.60 & Intermediário & -4749 &    0\\\\\n\t 10 & 2022-06-07 & 6537 &  469.28 & 0.07178828 & 1980-03-12 & Bronze   & 3829 &  595.78 & Avançado      &     0 &    0\\\\\n\t 12 & 2022-10-29 & 9312 &  570.34 & 0.06124785 & 1978-10-09 & Diamante & 8857 & 1310.66 & Avançado      &     0 &    0\\\\\n\t 13 & 2022-09-07 & 4123 &  240.23 & 0.05826583 & 1996-12-31 & Ouro     & 2228 & 1316.16 & Intermediário &     0 &    0\\\\\n\\end{tabular}\n",
            "text/plain": [
              "  id_cliente Data_Compra_Passagem Milhas_Utilizadas Valor_Pago Custo_Por_Milha\n",
              "1  3         2022-03-24           1023              1588.11    1.55240469     \n",
              "2  7         2022-09-16           9449              1906.01    0.20171553     \n",
              "3  7         2022-12-07           4700              1285.88    0.27359149     \n",
              "4 10         2022-06-07           6537               469.28    0.07178828     \n",
              "5 12         2022-10-29           9312               570.34    0.06124785     \n",
              "6 13         2022-09-07           4123               240.23    0.05826583     \n",
              "  Data_Nascimento Status_Fidelidade Milhas_Acumuladas Gasto_Total\n",
              "1 1994-07-18      Diamante           917               519.16    \n",
              "2 1972-08-06      Diamante          2583               924.60    \n",
              "3 1972-08-06      Diamante          2583               924.60    \n",
              "4 1980-03-12      Bronze            3829               595.78    \n",
              "5 1978-10-09      Diamante          8857              1310.66    \n",
              "6 1996-12-31      Ouro              2228              1316.16    \n",
              "  Categoria_cliente diferenca_milhas diferenca_milhas_futuro\n",
              "1 Iniciante             0               0                   \n",
              "2 Avançado              0            4700                   \n",
              "3 Intermediário     -4749               0                   \n",
              "4 Avançado              0               0                   \n",
              "5 Avançado              0               0                   \n",
              "6 Intermediário         0               0                   "
            ]
          },
          "metadata": {}
        }
      ]
    },
    {
      "cell_type": "markdown",
      "source": [
        "##  Transformar colunas em linhas com pivot_longer"
      ],
      "metadata": {
        "id": "RZ7iVjvnQUHC"
      }
    },
    {
      "cell_type": "code",
      "source": [
        "transacoes_passagens %>% select (id_cliente, Milhas_Utilizadas, Milhas_Acumuladas) %>% head ()"
      ],
      "metadata": {
        "colab": {
          "base_uri": "https://localhost:8080/",
          "height": 286
        },
        "id": "7iFoL9-PP8LY",
        "outputId": "cd134863-befc-414c-cf91-ad884fe1be57"
      },
      "execution_count": 76,
      "outputs": [
        {
          "output_type": "display_data",
          "data": {
            "text/html": [
              "<table class=\"dataframe\">\n",
              "<caption>A tibble: 6 × 3</caption>\n",
              "<thead>\n",
              "\t<tr><th scope=col>id_cliente</th><th scope=col>Milhas_Utilizadas</th><th scope=col>Milhas_Acumuladas</th></tr>\n",
              "\t<tr><th scope=col>&lt;dbl&gt;</th><th scope=col>&lt;dbl&gt;</th><th scope=col>&lt;dbl&gt;</th></tr>\n",
              "</thead>\n",
              "<tbody>\n",
              "\t<tr><td> 3</td><td>1023</td><td> 917</td></tr>\n",
              "\t<tr><td> 7</td><td>9449</td><td>2583</td></tr>\n",
              "\t<tr><td> 7</td><td>4700</td><td>2583</td></tr>\n",
              "\t<tr><td>10</td><td>6537</td><td>3829</td></tr>\n",
              "\t<tr><td>12</td><td>9312</td><td>8857</td></tr>\n",
              "\t<tr><td>13</td><td>4123</td><td>2228</td></tr>\n",
              "</tbody>\n",
              "</table>\n"
            ],
            "text/markdown": "\nA tibble: 6 × 3\n\n| id_cliente &lt;dbl&gt; | Milhas_Utilizadas &lt;dbl&gt; | Milhas_Acumuladas &lt;dbl&gt; |\n|---|---|---|\n|  3 | 1023 |  917 |\n|  7 | 9449 | 2583 |\n|  7 | 4700 | 2583 |\n| 10 | 6537 | 3829 |\n| 12 | 9312 | 8857 |\n| 13 | 4123 | 2228 |\n\n",
            "text/latex": "A tibble: 6 × 3\n\\begin{tabular}{lll}\n id\\_cliente & Milhas\\_Utilizadas & Milhas\\_Acumuladas\\\\\n <dbl> & <dbl> & <dbl>\\\\\n\\hline\n\t  3 & 1023 &  917\\\\\n\t  7 & 9449 & 2583\\\\\n\t  7 & 4700 & 2583\\\\\n\t 10 & 6537 & 3829\\\\\n\t 12 & 9312 & 8857\\\\\n\t 13 & 4123 & 2228\\\\\n\\end{tabular}\n",
            "text/plain": [
              "  id_cliente Milhas_Utilizadas Milhas_Acumuladas\n",
              "1  3         1023               917             \n",
              "2  7         9449              2583             \n",
              "3  7         4700              2583             \n",
              "4 10         6537              3829             \n",
              "5 12         9312              8857             \n",
              "6 13         4123              2228             "
            ]
          },
          "metadata": {}
        }
      ]
    },
    {
      "cell_type": "code",
      "source": [
        "df_long <- transacoes_passagens %>%\n",
        "            pivot_longer(\n",
        "            cols = starts_with(\"Milhas\"),\n",
        "            names_to = \"tipo_milhas\",\n",
        "            values_to = \"quantidade\"\n",
        "            )%>%\n",
        "            select(id_cliente, tipo_milhas, quantidade)"
      ],
      "metadata": {
        "id": "aYxflxiIRQfz"
      },
      "execution_count": 77,
      "outputs": []
    },
    {
      "cell_type": "code",
      "source": [
        "df_long %>% head()"
      ],
      "metadata": {
        "colab": {
          "base_uri": "https://localhost:8080/",
          "height": 286
        },
        "id": "Y1x9rHUCRbwh",
        "outputId": "01975caa-577b-4de2-b71a-7fd15c129785"
      },
      "execution_count": 79,
      "outputs": [
        {
          "output_type": "display_data",
          "data": {
            "text/html": [
              "<table class=\"dataframe\">\n",
              "<caption>A tibble: 6 × 3</caption>\n",
              "<thead>\n",
              "\t<tr><th scope=col>id_cliente</th><th scope=col>tipo_milhas</th><th scope=col>quantidade</th></tr>\n",
              "\t<tr><th scope=col>&lt;dbl&gt;</th><th scope=col>&lt;chr&gt;</th><th scope=col>&lt;dbl&gt;</th></tr>\n",
              "</thead>\n",
              "<tbody>\n",
              "\t<tr><td>3</td><td>Milhas_Utilizadas</td><td>1023</td></tr>\n",
              "\t<tr><td>3</td><td>Milhas_Acumuladas</td><td> 917</td></tr>\n",
              "\t<tr><td>7</td><td>Milhas_Utilizadas</td><td>9449</td></tr>\n",
              "\t<tr><td>7</td><td>Milhas_Acumuladas</td><td>2583</td></tr>\n",
              "\t<tr><td>7</td><td>Milhas_Utilizadas</td><td>4700</td></tr>\n",
              "\t<tr><td>7</td><td>Milhas_Acumuladas</td><td>2583</td></tr>\n",
              "</tbody>\n",
              "</table>\n"
            ],
            "text/markdown": "\nA tibble: 6 × 3\n\n| id_cliente &lt;dbl&gt; | tipo_milhas &lt;chr&gt; | quantidade &lt;dbl&gt; |\n|---|---|---|\n| 3 | Milhas_Utilizadas | 1023 |\n| 3 | Milhas_Acumuladas |  917 |\n| 7 | Milhas_Utilizadas | 9449 |\n| 7 | Milhas_Acumuladas | 2583 |\n| 7 | Milhas_Utilizadas | 4700 |\n| 7 | Milhas_Acumuladas | 2583 |\n\n",
            "text/latex": "A tibble: 6 × 3\n\\begin{tabular}{lll}\n id\\_cliente & tipo\\_milhas & quantidade\\\\\n <dbl> & <chr> & <dbl>\\\\\n\\hline\n\t 3 & Milhas\\_Utilizadas & 1023\\\\\n\t 3 & Milhas\\_Acumuladas &  917\\\\\n\t 7 & Milhas\\_Utilizadas & 9449\\\\\n\t 7 & Milhas\\_Acumuladas & 2583\\\\\n\t 7 & Milhas\\_Utilizadas & 4700\\\\\n\t 7 & Milhas\\_Acumuladas & 2583\\\\\n\\end{tabular}\n",
            "text/plain": [
              "  id_cliente tipo_milhas       quantidade\n",
              "1 3          Milhas_Utilizadas 1023      \n",
              "2 3          Milhas_Acumuladas  917      \n",
              "3 7          Milhas_Utilizadas 9449      \n",
              "4 7          Milhas_Acumuladas 2583      \n",
              "5 7          Milhas_Utilizadas 4700      \n",
              "6 7          Milhas_Acumuladas 2583      "
            ]
          },
          "metadata": {}
        }
      ]
    },
    {
      "cell_type": "code",
      "source": [
        "df_long %>%\n",
        "    group_by(tipo_milhas) %>%\n",
        "    summarise(\n",
        "    media = mean (quantidade),\n",
        "    mediana = median (quantidade),\n",
        "    desvio_padrao = sd (quantidade),\n",
        ")"
      ],
      "metadata": {
        "colab": {
          "base_uri": "https://localhost:8080/",
          "height": 161
        },
        "id": "2pz3LsMkRcUt",
        "outputId": "724b4ae1-41ff-4484-dc3a-780f04afae6d"
      },
      "execution_count": 81,
      "outputs": [
        {
          "output_type": "display_data",
          "data": {
            "text/html": [
              "<table class=\"dataframe\">\n",
              "<caption>A tibble: 2 × 4</caption>\n",
              "<thead>\n",
              "\t<tr><th scope=col>tipo_milhas</th><th scope=col>media</th><th scope=col>mediana</th><th scope=col>desvio_padrao</th></tr>\n",
              "\t<tr><th scope=col>&lt;chr&gt;</th><th scope=col>&lt;dbl&gt;</th><th scope=col>&lt;dbl&gt;</th><th scope=col>&lt;dbl&gt;</th></tr>\n",
              "</thead>\n",
              "<tbody>\n",
              "\t<tr><td>Milhas_Acumuladas</td><td>5028.865</td><td>4926.5</td><td>2916.979</td></tr>\n",
              "\t<tr><td>Milhas_Utilizadas</td><td>5112.629</td><td>5260.5</td><td>2793.163</td></tr>\n",
              "</tbody>\n",
              "</table>\n"
            ],
            "text/markdown": "\nA tibble: 2 × 4\n\n| tipo_milhas &lt;chr&gt; | media &lt;dbl&gt; | mediana &lt;dbl&gt; | desvio_padrao &lt;dbl&gt; |\n|---|---|---|---|\n| Milhas_Acumuladas | 5028.865 | 4926.5 | 2916.979 |\n| Milhas_Utilizadas | 5112.629 | 5260.5 | 2793.163 |\n\n",
            "text/latex": "A tibble: 2 × 4\n\\begin{tabular}{llll}\n tipo\\_milhas & media & mediana & desvio\\_padrao\\\\\n <chr> & <dbl> & <dbl> & <dbl>\\\\\n\\hline\n\t Milhas\\_Acumuladas & 5028.865 & 4926.5 & 2916.979\\\\\n\t Milhas\\_Utilizadas & 5112.629 & 5260.5 & 2793.163\\\\\n\\end{tabular}\n",
            "text/plain": [
              "  tipo_milhas       media    mediana desvio_padrao\n",
              "1 Milhas_Acumuladas 5028.865 4926.5  2916.979     \n",
              "2 Milhas_Utilizadas 5112.629 5260.5  2793.163     "
            ]
          },
          "metadata": {}
        }
      ]
    }
  ]
}